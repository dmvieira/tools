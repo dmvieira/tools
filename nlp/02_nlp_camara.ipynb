{
 "cells": [
  {
   "cell_type": "code",
   "execution_count": 1,
   "metadata": {},
   "outputs": [],
   "source": [
    "import string\n",
    "import pandas as pd"
   ]
  },
  {
   "cell_type": "code",
   "execution_count": null,
   "metadata": {},
   "outputs": [],
   "source": []
  },
  {
   "cell_type": "code",
   "execution_count": 2,
   "metadata": {},
   "outputs": [],
   "source": [
    "# Carrega dataframe\n",
    "# Cada linha é uma proposicao\n",
    "# A coluna id é o código único no sistema interno da Câmara dos Deputados\n",
    "# Popularmente as proposicoes sao conhecidas pela juncao de: siglaTipo + numero + / + ano (ex. PL 2342/2010)\n",
    "# Entao vou criar um campo artificial para referencia, com mais o id -> codigo_unico"
   ]
  },
  {
   "cell_type": "code",
   "execution_count": 3,
   "metadata": {},
   "outputs": [],
   "source": [
    "proposicoes = pd.read_csv(\"resultados/projetos_camara_2010_2018.csv\",\\\n",
    "                          sep=',',\\\n",
    "                          encoding = 'utf-8', \\\n",
    "                          converters={'ano': lambda x: str(x),\n",
    "                                      'id': lambda x: str(x), \n",
    "                                      'idTipo': lambda x: str(x),\n",
    "                                      'numero': lambda x: str(x)\n",
    "                                      })"
   ]
  },
  {
   "cell_type": "code",
   "execution_count": 4,
   "metadata": {},
   "outputs": [
    {
     "name": "stdout",
     "output_type": "stream",
     "text": [
      "<class 'pandas.core.frame.DataFrame'>\n",
      "RangeIndex: 146322 entries, 0 to 146321\n",
      "Data columns (total 7 columns):\n",
      "ano          146322 non-null object\n",
      "ementa       144347 non-null object\n",
      "id           146322 non-null object\n",
      "idTipo       146322 non-null object\n",
      "numero       146322 non-null object\n",
      "siglaTipo    146321 non-null object\n",
      "uri          146320 non-null object\n",
      "dtypes: object(7)\n",
      "memory usage: 7.8+ MB\n"
     ]
    }
   ],
   "source": [
    "proposicoes.info()"
   ]
  },
  {
   "cell_type": "code",
   "execution_count": null,
   "metadata": {},
   "outputs": [],
   "source": []
  },
  {
   "cell_type": "code",
   "execution_count": 5,
   "metadata": {},
   "outputs": [],
   "source": [
    "def cria(linha):\n",
    "    tipo = str(linha[\"siglaTipo\"])\n",
    "    numero = str(linha['numero'])\n",
    "    ano = str(linha['ano'])\n",
    "    id_ = str(linha['id'])\n",
    "    documento = tipo + ' ' + numero + '/' + ano + ' - ' + id_\n",
    "    return documento\n",
    "\n",
    "proposicoes[\"codigo_unico\"] = proposicoes.apply(cria, axis=1)"
   ]
  },
  {
   "cell_type": "code",
   "execution_count": null,
   "metadata": {},
   "outputs": [],
   "source": []
  },
  {
   "cell_type": "code",
   "execution_count": 6,
   "metadata": {},
   "outputs": [],
   "source": [
    "# Trabalha com uma copia da coluna ementa"
   ]
  },
  {
   "cell_type": "code",
   "execution_count": 7,
   "metadata": {},
   "outputs": [],
   "source": [
    "proposicoes[\"ementa_copia\"] = proposicoes[\"ementa\"]"
   ]
  },
  {
   "cell_type": "code",
   "execution_count": 8,
   "metadata": {},
   "outputs": [
    {
     "name": "stdout",
     "output_type": "stream",
     "text": [
      "<class 'pandas.core.frame.DataFrame'>\n",
      "RangeIndex: 146322 entries, 0 to 146321\n",
      "Data columns (total 9 columns):\n",
      "ano             146322 non-null object\n",
      "ementa          144347 non-null object\n",
      "id              146322 non-null object\n",
      "idTipo          146322 non-null object\n",
      "numero          146322 non-null object\n",
      "siglaTipo       146321 non-null object\n",
      "uri             146320 non-null object\n",
      "codigo_unico    146322 non-null object\n",
      "ementa_copia    144347 non-null object\n",
      "dtypes: object(9)\n",
      "memory usage: 10.0+ MB\n"
     ]
    }
   ],
   "source": [
    "proposicoes.info()"
   ]
  },
  {
   "cell_type": "code",
   "execution_count": null,
   "metadata": {},
   "outputs": [],
   "source": []
  },
  {
   "cell_type": "code",
   "execution_count": 9,
   "metadata": {},
   "outputs": [],
   "source": [
    "# Rotinas para tirar pontuacao e deixar minuscula"
   ]
  },
  {
   "cell_type": "code",
   "execution_count": 10,
   "metadata": {},
   "outputs": [],
   "source": [
    "def limpeza1(linha):\n",
    "    documento = str(linha[\"ementa_copia\"])\n",
    "    documento = documento.strip()\n",
    "    documento = documento.replace(',', '')\n",
    "    documento = documento.replace('.', '')\n",
    "    documento = documento.replace('-', '')\n",
    "    documento = documento.replace('/', '')\n",
    "    documento = documento.replace(';', '')\n",
    "    documento = documento.replace('\"', '')\n",
    "    documento = documento.translate(string.punctuation)\n",
    "    documento = documento.lower()\n",
    "    return documento\n",
    "    \n",
    "proposicoes[\"ementa_copia\"] = proposicoes.apply(limpeza1, axis=1)"
   ]
  },
  {
   "cell_type": "code",
   "execution_count": null,
   "metadata": {},
   "outputs": [],
   "source": []
  },
  {
   "cell_type": "code",
   "execution_count": 11,
   "metadata": {},
   "outputs": [],
   "source": [
    "# Cria arquivo para checagem visual"
   ]
  },
  {
   "cell_type": "code",
   "execution_count": 73,
   "metadata": {},
   "outputs": [],
   "source": [
    "proposicoes.to_excel('resultados/teste.xlsx',sheet_name='Sheet1')"
   ]
  },
  {
   "cell_type": "code",
   "execution_count": null,
   "metadata": {},
   "outputs": [],
   "source": [
    "    "
   ]
  },
  {
   "cell_type": "code",
   "execution_count": 12,
   "metadata": {},
   "outputs": [
    {
     "name": "stdout",
     "output_type": "stream",
     "text": [
      "<class 'pandas.core.frame.DataFrame'>\n",
      "RangeIndex: 146322 entries, 0 to 146321\n",
      "Data columns (total 9 columns):\n",
      "ano             146322 non-null object\n",
      "ementa          144347 non-null object\n",
      "id              146322 non-null object\n",
      "idTipo          146322 non-null object\n",
      "numero          146322 non-null object\n",
      "siglaTipo       146321 non-null object\n",
      "uri             146320 non-null object\n",
      "codigo_unico    146322 non-null object\n",
      "ementa_copia    146322 non-null object\n",
      "dtypes: object(9)\n",
      "memory usage: 10.0+ MB\n"
     ]
    }
   ],
   "source": [
    "proposicoes.info()"
   ]
  },
  {
   "cell_type": "code",
   "execution_count": null,
   "metadata": {},
   "outputs": [],
   "source": []
  },
  {
   "cell_type": "code",
   "execution_count": 13,
   "metadata": {},
   "outputs": [],
   "source": [
    "#Words_array"
   ]
  },
  {
   "cell_type": "code",
   "execution_count": 14,
   "metadata": {},
   "outputs": [],
   "source": [
    "def limpeza2(linha):\n",
    "    documento = str(linha[\"ementa_copia\"])\n",
    "    documento = documento.split(' ')\n",
    "    return documento\n",
    "      \n",
    "proposicoes[\"words_array\"] = proposicoes.apply(limpeza2, axis=1)"
   ]
  },
  {
   "cell_type": "code",
   "execution_count": null,
   "metadata": {},
   "outputs": [],
   "source": []
  },
  {
   "cell_type": "code",
   "execution_count": 15,
   "metadata": {},
   "outputs": [
    {
     "data": {
      "text/html": [
       "<div>\n",
       "<style scoped>\n",
       "    .dataframe tbody tr th:only-of-type {\n",
       "        vertical-align: middle;\n",
       "    }\n",
       "\n",
       "    .dataframe tbody tr th {\n",
       "        vertical-align: top;\n",
       "    }\n",
       "\n",
       "    .dataframe thead th {\n",
       "        text-align: right;\n",
       "    }\n",
       "</style>\n",
       "<table border=\"1\" class=\"dataframe\">\n",
       "  <thead>\n",
       "    <tr style=\"text-align: right;\">\n",
       "      <th></th>\n",
       "      <th>index</th>\n",
       "      <th>ano</th>\n",
       "      <th>ementa</th>\n",
       "      <th>id</th>\n",
       "      <th>idTipo</th>\n",
       "      <th>numero</th>\n",
       "      <th>siglaTipo</th>\n",
       "      <th>uri</th>\n",
       "      <th>codigo_unico</th>\n",
       "      <th>ementa_copia</th>\n",
       "      <th>words_array</th>\n",
       "    </tr>\n",
       "  </thead>\n",
       "  <tbody>\n",
       "    <tr>\n",
       "      <th>0</th>\n",
       "      <td>0</td>\n",
       "      <td>2010</td>\n",
       "      <td>Comunica o Excelentíssimo Senhor Presidente da...</td>\n",
       "      <td>465465</td>\n",
       "      <td>412</td>\n",
       "      <td>36</td>\n",
       "      <td>MSC</td>\n",
       "      <td>https://dadosabertos.camara.leg.br/api/v2/prop...</td>\n",
       "      <td>MSC 36/2010 - 465465</td>\n",
       "      <td>comunica o excelentíssimo senhor presidente da...</td>\n",
       "      <td>[comunica, o, excelentíssimo, senhor, presiden...</td>\n",
       "    </tr>\n",
       "    <tr>\n",
       "      <th>1</th>\n",
       "      <td>1</td>\n",
       "      <td>2010</td>\n",
       "      <td>Abre crédito extraordinário, em favor da Presi...</td>\n",
       "      <td>465466</td>\n",
       "      <td>291</td>\n",
       "      <td>480</td>\n",
       "      <td>MPV</td>\n",
       "      <td>https://dadosabertos.camara.leg.br/api/v2/prop...</td>\n",
       "      <td>MPV 480/2010 - 465466</td>\n",
       "      <td>abre crédito extraordinário em favor da presid...</td>\n",
       "      <td>[abre, crédito, extraordinário, em, favor, da,...</td>\n",
       "    </tr>\n",
       "    <tr>\n",
       "      <th>2</th>\n",
       "      <td>2</td>\n",
       "      <td>2010</td>\n",
       "      <td>Comunica o Excelentíssimo Senhor Presidente da...</td>\n",
       "      <td>465467</td>\n",
       "      <td>415</td>\n",
       "      <td>38</td>\n",
       "      <td>MSC</td>\n",
       "      <td>https://dadosabertos.camara.leg.br/api/v2/prop...</td>\n",
       "      <td>MSC 38/2010 - 465467</td>\n",
       "      <td>comunica o excelentíssimo senhor presidente da...</td>\n",
       "      <td>[comunica, o, excelentíssimo, senhor, presiden...</td>\n",
       "    </tr>\n",
       "    <tr>\n",
       "      <th>3</th>\n",
       "      <td>3</td>\n",
       "      <td>2010</td>\n",
       "      <td>Submete à deliberação do Congresso Nacional Pr...</td>\n",
       "      <td>465469</td>\n",
       "      <td>134</td>\n",
       "      <td>42</td>\n",
       "      <td>MSC</td>\n",
       "      <td>https://dadosabertos.camara.leg.br/api/v2/prop...</td>\n",
       "      <td>MSC 42/2010 - 465469</td>\n",
       "      <td>submete à deliberação do congresso nacional pr...</td>\n",
       "      <td>[submete, à, deliberação, do, congresso, nacio...</td>\n",
       "    </tr>\n",
       "    <tr>\n",
       "      <th>4</th>\n",
       "      <td>4</td>\n",
       "      <td>2010</td>\n",
       "      <td>Concede auxílio especial e bolsa especial aos ...</td>\n",
       "      <td>465470</td>\n",
       "      <td>139</td>\n",
       "      <td>6720</td>\n",
       "      <td>PL</td>\n",
       "      <td>https://dadosabertos.camara.leg.br/api/v2/prop...</td>\n",
       "      <td>PL 6720/2010 - 465470</td>\n",
       "      <td>concede auxílio especial e bolsa especial aos ...</td>\n",
       "      <td>[concede, auxílio, especial, e, bolsa, especia...</td>\n",
       "    </tr>\n",
       "  </tbody>\n",
       "</table>\n",
       "</div>"
      ],
      "text/plain": [
       "   index   ano                                             ementa      id  \\\n",
       "0      0  2010  Comunica o Excelentíssimo Senhor Presidente da...  465465   \n",
       "1      1  2010  Abre crédito extraordinário, em favor da Presi...  465466   \n",
       "2      2  2010  Comunica o Excelentíssimo Senhor Presidente da...  465467   \n",
       "3      3  2010  Submete à deliberação do Congresso Nacional Pr...  465469   \n",
       "4      4  2010  Concede auxílio especial e bolsa especial aos ...  465470   \n",
       "\n",
       "  idTipo numero siglaTipo                                                uri  \\\n",
       "0    412     36       MSC  https://dadosabertos.camara.leg.br/api/v2/prop...   \n",
       "1    291    480       MPV  https://dadosabertos.camara.leg.br/api/v2/prop...   \n",
       "2    415     38       MSC  https://dadosabertos.camara.leg.br/api/v2/prop...   \n",
       "3    134     42       MSC  https://dadosabertos.camara.leg.br/api/v2/prop...   \n",
       "4    139   6720        PL  https://dadosabertos.camara.leg.br/api/v2/prop...   \n",
       "\n",
       "            codigo_unico                                       ementa_copia  \\\n",
       "0   MSC 36/2010 - 465465  comunica o excelentíssimo senhor presidente da...   \n",
       "1  MPV 480/2010 - 465466  abre crédito extraordinário em favor da presid...   \n",
       "2   MSC 38/2010 - 465467  comunica o excelentíssimo senhor presidente da...   \n",
       "3   MSC 42/2010 - 465469  submete à deliberação do congresso nacional pr...   \n",
       "4  PL 6720/2010 - 465470  concede auxílio especial e bolsa especial aos ...   \n",
       "\n",
       "                                         words_array  \n",
       "0  [comunica, o, excelentíssimo, senhor, presiden...  \n",
       "1  [abre, crédito, extraordinário, em, favor, da,...  \n",
       "2  [comunica, o, excelentíssimo, senhor, presiden...  \n",
       "3  [submete, à, deliberação, do, congresso, nacio...  \n",
       "4  [concede, auxílio, especial, e, bolsa, especia...  "
      ]
     },
     "execution_count": 15,
     "metadata": {},
     "output_type": "execute_result"
    }
   ],
   "source": [
    "proposicoes.reset_index().head()"
   ]
  },
  {
   "cell_type": "code",
   "execution_count": null,
   "metadata": {},
   "outputs": [],
   "source": []
  },
  {
   "cell_type": "code",
   "execution_count": 16,
   "metadata": {},
   "outputs": [],
   "source": [
    "# Cria dataframe apenas com o codigo_unico e words_array"
   ]
  },
  {
   "cell_type": "code",
   "execution_count": 17,
   "metadata": {},
   "outputs": [],
   "source": [
    "prop_selec = proposicoes[['codigo_unico', 'words_array']]"
   ]
  },
  {
   "cell_type": "code",
   "execution_count": 18,
   "metadata": {},
   "outputs": [
    {
     "name": "stdout",
     "output_type": "stream",
     "text": [
      "<class 'pandas.core.frame.DataFrame'>\n",
      "RangeIndex: 146322 entries, 0 to 146321\n",
      "Data columns (total 2 columns):\n",
      "codigo_unico    146322 non-null object\n",
      "words_array     146322 non-null object\n",
      "dtypes: object(2)\n",
      "memory usage: 2.2+ MB\n"
     ]
    }
   ],
   "source": [
    "prop_selec.info()"
   ]
  },
  {
   "cell_type": "code",
   "execution_count": null,
   "metadata": {},
   "outputs": [],
   "source": []
  },
  {
   "cell_type": "code",
   "execution_count": 19,
   "metadata": {},
   "outputs": [],
   "source": [
    "# Remove linhas em branco"
   ]
  },
  {
   "cell_type": "code",
   "execution_count": 26,
   "metadata": {},
   "outputs": [
    {
     "data": {
      "text/html": [
       "<div>\n",
       "<style scoped>\n",
       "    .dataframe tbody tr th:only-of-type {\n",
       "        vertical-align: middle;\n",
       "    }\n",
       "\n",
       "    .dataframe tbody tr th {\n",
       "        vertical-align: top;\n",
       "    }\n",
       "\n",
       "    .dataframe thead th {\n",
       "        text-align: right;\n",
       "    }\n",
       "</style>\n",
       "<table border=\"1\" class=\"dataframe\">\n",
       "  <thead>\n",
       "    <tr style=\"text-align: right;\">\n",
       "      <th></th>\n",
       "      <th>index</th>\n",
       "      <th>codigo_unico</th>\n",
       "      <th>words_array</th>\n",
       "    </tr>\n",
       "  </thead>\n",
       "  <tbody>\n",
       "    <tr>\n",
       "      <th>0</th>\n",
       "      <td>0</td>\n",
       "      <td>MSC 36/2010 - 465465</td>\n",
       "      <td>[comunica, o, excelentíssimo, senhor, presiden...</td>\n",
       "    </tr>\n",
       "    <tr>\n",
       "      <th>1</th>\n",
       "      <td>1</td>\n",
       "      <td>MPV 480/2010 - 465466</td>\n",
       "      <td>[abre, crédito, extraordinário, em, favor, da,...</td>\n",
       "    </tr>\n",
       "    <tr>\n",
       "      <th>2</th>\n",
       "      <td>2</td>\n",
       "      <td>MSC 38/2010 - 465467</td>\n",
       "      <td>[comunica, o, excelentíssimo, senhor, presiden...</td>\n",
       "    </tr>\n",
       "    <tr>\n",
       "      <th>3</th>\n",
       "      <td>3</td>\n",
       "      <td>MSC 42/2010 - 465469</td>\n",
       "      <td>[submete, à, deliberação, do, congresso, nacio...</td>\n",
       "    </tr>\n",
       "    <tr>\n",
       "      <th>4</th>\n",
       "      <td>4</td>\n",
       "      <td>PL 6720/2010 - 465470</td>\n",
       "      <td>[concede, auxílio, especial, e, bolsa, especia...</td>\n",
       "    </tr>\n",
       "  </tbody>\n",
       "</table>\n",
       "</div>"
      ],
      "text/plain": [
       "   index           codigo_unico  \\\n",
       "0      0   MSC 36/2010 - 465465   \n",
       "1      1  MPV 480/2010 - 465466   \n",
       "2      2   MSC 38/2010 - 465467   \n",
       "3      3   MSC 42/2010 - 465469   \n",
       "4      4  PL 6720/2010 - 465470   \n",
       "\n",
       "                                         words_array  \n",
       "0  [comunica, o, excelentíssimo, senhor, presiden...  \n",
       "1  [abre, crédito, extraordinário, em, favor, da,...  \n",
       "2  [comunica, o, excelentíssimo, senhor, presiden...  \n",
       "3  [submete, à, deliberação, do, congresso, nacio...  \n",
       "4  [concede, auxílio, especial, e, bolsa, especia...  "
      ]
     },
     "execution_count": 26,
     "metadata": {},
     "output_type": "execute_result"
    }
   ],
   "source": [
    "prop_selec_cleaned = prop_selec[prop_selec['words_array'] != \"\"]\n",
    "prop_selec_cleaned.reset_index().head()"
   ]
  },
  {
   "cell_type": "code",
   "execution_count": null,
   "metadata": {},
   "outputs": [],
   "source": []
  },
  {
   "cell_type": "code",
   "execution_count": 27,
   "metadata": {},
   "outputs": [
    {
     "name": "stdout",
     "output_type": "stream",
     "text": [
      "<class 'pandas.core.frame.DataFrame'>\n",
      "Int64Index: 146322 entries, 0 to 146321\n",
      "Data columns (total 2 columns):\n",
      "codigo_unico    146322 non-null object\n",
      "words_array     146322 non-null object\n",
      "dtypes: object(2)\n",
      "memory usage: 3.3+ MB\n"
     ]
    }
   ],
   "source": [
    "prop_selec_cleaned.info()"
   ]
  },
  {
   "cell_type": "code",
   "execution_count": null,
   "metadata": {},
   "outputs": [],
   "source": []
  },
  {
   "cell_type": "code",
   "execution_count": 34,
   "metadata": {},
   "outputs": [],
   "source": [
    "# Transposicao"
   ]
  },
  {
   "cell_type": "code",
   "execution_count": 35,
   "metadata": {},
   "outputs": [],
   "source": [
    "df_transp = prop_selec_cleaned.set_index('codigo_unico')['words_array'].to_frame().T"
   ]
  },
  {
   "cell_type": "code",
   "execution_count": 36,
   "metadata": {},
   "outputs": [
    {
     "data": {
      "text/html": [
       "<div>\n",
       "<style scoped>\n",
       "    .dataframe tbody tr th:only-of-type {\n",
       "        vertical-align: middle;\n",
       "    }\n",
       "\n",
       "    .dataframe tbody tr th {\n",
       "        vertical-align: top;\n",
       "    }\n",
       "\n",
       "    .dataframe thead th {\n",
       "        text-align: right;\n",
       "    }\n",
       "</style>\n",
       "<table border=\"1\" class=\"dataframe\">\n",
       "  <thead>\n",
       "    <tr style=\"text-align: right;\">\n",
       "      <th>codigo_unico</th>\n",
       "      <th>index</th>\n",
       "      <th>MSC 36/2010 - 465465</th>\n",
       "      <th>MPV 480/2010 - 465466</th>\n",
       "      <th>MSC 38/2010 - 465467</th>\n",
       "      <th>MSC 42/2010 - 465469</th>\n",
       "      <th>PL 6720/2010 - 465470</th>\n",
       "      <th>PL 6721/2010 - 465481</th>\n",
       "      <th>MSC 43/2010 - 465485</th>\n",
       "      <th>PL 6722/2010 - 465486</th>\n",
       "      <th>REQ 68/2010 - 465498</th>\n",
       "      <th>...</th>\n",
       "      <th>TVR 479/2018 - 2190318</th>\n",
       "      <th>TVR 480/2018 - 2190319</th>\n",
       "      <th>TVR 481/2018 - 2190320</th>\n",
       "      <th>TVR 482/2018 - 2190321</th>\n",
       "      <th>MSC 757/2018 - 2190322</th>\n",
       "      <th>MSC 795/2018 - 2190323</th>\n",
       "      <th>MSC 796/2018 - 2190324</th>\n",
       "      <th>MSC 799/2018 - 2190326</th>\n",
       "      <th>MSC 798/2018 - 2190327</th>\n",
       "      <th>MSC 797/2018 - 2190344</th>\n",
       "    </tr>\n",
       "  </thead>\n",
       "  <tbody>\n",
       "    <tr>\n",
       "      <th>0</th>\n",
       "      <td>words_array</td>\n",
       "      <td>[comunica, o, excelentíssimo, senhor, presiden...</td>\n",
       "      <td>[abre, crédito, extraordinário, em, favor, da,...</td>\n",
       "      <td>[comunica, o, excelentíssimo, senhor, presiden...</td>\n",
       "      <td>[submete, à, deliberação, do, congresso, nacio...</td>\n",
       "      <td>[concede, auxílio, especial, e, bolsa, especia...</td>\n",
       "      <td>[transforma, cargos, de, promotor, de, justiça...</td>\n",
       "      <td>[submete, à, deliberação, do, congresso, nacio...</td>\n",
       "      <td>[institui, o, programa, nacional, de, fomento,...</td>\n",
       "      <td>[requer, seja, enviada, diligência, ao, municí...</td>\n",
       "      <td>...</td>\n",
       "      <td>[submete, à, apreciação, do, congresso, nacion...</td>\n",
       "      <td>[submete, à, apreciação, do, congresso, nacion...</td>\n",
       "      <td>[submete, à, apreciação, do, congresso, nacion...</td>\n",
       "      <td>[submete, à, apreciação, do, congresso, nacion...</td>\n",
       "      <td>[acordo, de, cooperação, técnica, entre, o, go...</td>\n",
       "      <td>[do, ajuste, complementar, ao, acordo, entre, ...</td>\n",
       "      <td>[do, acordo, entre, a, república, federativa, ...</td>\n",
       "      <td>[submete, à, deliberação, do, congresso, nacio...</td>\n",
       "      <td>[submete, à, , apreciação, dos, senhores, memb...</td>\n",
       "      <td>[texto, do, ajuste, complementar, ao, acordo, ...</td>\n",
       "    </tr>\n",
       "  </tbody>\n",
       "</table>\n",
       "<p>1 rows × 146323 columns</p>\n",
       "</div>"
      ],
      "text/plain": [
       "codigo_unico        index                               MSC 36/2010 - 465465  \\\n",
       "0             words_array  [comunica, o, excelentíssimo, senhor, presiden...   \n",
       "\n",
       "codigo_unico                              MPV 480/2010 - 465466  \\\n",
       "0             [abre, crédito, extraordinário, em, favor, da,...   \n",
       "\n",
       "codigo_unico                               MSC 38/2010 - 465467  \\\n",
       "0             [comunica, o, excelentíssimo, senhor, presiden...   \n",
       "\n",
       "codigo_unico                               MSC 42/2010 - 465469  \\\n",
       "0             [submete, à, deliberação, do, congresso, nacio...   \n",
       "\n",
       "codigo_unico                              PL 6720/2010 - 465470  \\\n",
       "0             [concede, auxílio, especial, e, bolsa, especia...   \n",
       "\n",
       "codigo_unico                              PL 6721/2010 - 465481  \\\n",
       "0             [transforma, cargos, de, promotor, de, justiça...   \n",
       "\n",
       "codigo_unico                               MSC 43/2010 - 465485  \\\n",
       "0             [submete, à, deliberação, do, congresso, nacio...   \n",
       "\n",
       "codigo_unico                              PL 6722/2010 - 465486  \\\n",
       "0             [institui, o, programa, nacional, de, fomento,...   \n",
       "\n",
       "codigo_unico                               REQ 68/2010 - 465498  \\\n",
       "0             [requer, seja, enviada, diligência, ao, municí...   \n",
       "\n",
       "codigo_unico                        ...                          \\\n",
       "0                                   ...                           \n",
       "\n",
       "codigo_unico                             TVR 479/2018 - 2190318  \\\n",
       "0             [submete, à, apreciação, do, congresso, nacion...   \n",
       "\n",
       "codigo_unico                             TVR 480/2018 - 2190319  \\\n",
       "0             [submete, à, apreciação, do, congresso, nacion...   \n",
       "\n",
       "codigo_unico                             TVR 481/2018 - 2190320  \\\n",
       "0             [submete, à, apreciação, do, congresso, nacion...   \n",
       "\n",
       "codigo_unico                             TVR 482/2018 - 2190321  \\\n",
       "0             [submete, à, apreciação, do, congresso, nacion...   \n",
       "\n",
       "codigo_unico                             MSC 757/2018 - 2190322  \\\n",
       "0             [acordo, de, cooperação, técnica, entre, o, go...   \n",
       "\n",
       "codigo_unico                             MSC 795/2018 - 2190323  \\\n",
       "0             [do, ajuste, complementar, ao, acordo, entre, ...   \n",
       "\n",
       "codigo_unico                             MSC 796/2018 - 2190324  \\\n",
       "0             [do, acordo, entre, a, república, federativa, ...   \n",
       "\n",
       "codigo_unico                             MSC 799/2018 - 2190326  \\\n",
       "0             [submete, à, deliberação, do, congresso, nacio...   \n",
       "\n",
       "codigo_unico                             MSC 798/2018 - 2190327  \\\n",
       "0             [submete, à, , apreciação, dos, senhores, memb...   \n",
       "\n",
       "codigo_unico                             MSC 797/2018 - 2190344  \n",
       "0             [texto, do, ajuste, complementar, ao, acordo, ...  \n",
       "\n",
       "[1 rows x 146323 columns]"
      ]
     },
     "execution_count": 36,
     "metadata": {},
     "output_type": "execute_result"
    }
   ],
   "source": [
    "df_transp.reset_index().head()"
   ]
  },
  {
   "cell_type": "code",
   "execution_count": 37,
   "metadata": {},
   "outputs": [
    {
     "name": "stdout",
     "output_type": "stream",
     "text": [
      "<class 'pandas.core.frame.DataFrame'>\n",
      "Index: 1 entries, words_array to words_array\n",
      "Columns: 146322 entries, MSC 36/2010 - 465465 to MSC 797/2018 - 2190344\n",
      "dtypes: object(146322)\n",
      "memory usage: 1.1+ MB\n"
     ]
    }
   ],
   "source": [
    "df_transp.info()"
   ]
  },
  {
   "cell_type": "code",
   "execution_count": null,
   "metadata": {},
   "outputs": [],
   "source": []
  }
 ],
 "metadata": {
  "kernelspec": {
   "display_name": "Python 3",
   "language": "python",
   "name": "python3"
  },
  "language_info": {
   "codemirror_mode": {
    "name": "ipython",
    "version": 3
   },
   "file_extension": ".py",
   "mimetype": "text/x-python",
   "name": "python",
   "nbconvert_exporter": "python",
   "pygments_lexer": "ipython3",
   "version": "3.6.2"
  }
 },
 "nbformat": 4,
 "nbformat_minor": 2
}

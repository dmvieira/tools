{
 "cells": [
  {
   "cell_type": "code",
   "execution_count": 1,
   "metadata": {},
   "outputs": [],
   "source": [
    "import string\n",
    "import pandas as pd"
   ]
  },
  {
   "cell_type": "code",
   "execution_count": null,
   "metadata": {},
   "outputs": [],
   "source": []
  },
  {
   "cell_type": "code",
   "execution_count": 42,
   "metadata": {},
   "outputs": [],
   "source": [
    "# Carrega dataframe\n",
    "# Cada linha é uma proposicao\n",
    "# A coluna id é o código único no sistema interno da Câmara dos Deputados\n",
    "# Popularmente as proposicoes sao conhecidas pela juncao de: siglaTipo + numero + / + ano (ex. PL 2342/2010)\n",
    "# Entao vou criar um campo artificial para referencia, com mais o id -> codigo_unico"
   ]
  },
  {
   "cell_type": "code",
   "execution_count": 64,
   "metadata": {},
   "outputs": [],
   "source": [
    "proposicoes = pd.read_csv(\"resultados/projetos_camara_2010_2018.csv\",\\\n",
    "                          sep=',',\\\n",
    "                          encoding = 'utf-8', \\\n",
    "                          converters={'ano': lambda x: str(x),\n",
    "                                      'id': lambda x: str(x), \n",
    "                                      'idTipo': lambda x: str(x),\n",
    "                                      'numero': lambda x: str(x)\n",
    "                                      })"
   ]
  },
  {
   "cell_type": "code",
   "execution_count": 65,
   "metadata": {},
   "outputs": [
    {
     "name": "stdout",
     "output_type": "stream",
     "text": [
      "<class 'pandas.core.frame.DataFrame'>\n",
      "RangeIndex: 146322 entries, 0 to 146321\n",
      "Data columns (total 7 columns):\n",
      "ano          146322 non-null object\n",
      "ementa       144347 non-null object\n",
      "id           146322 non-null object\n",
      "idTipo       146322 non-null object\n",
      "numero       146322 non-null object\n",
      "siglaTipo    146321 non-null object\n",
      "uri          146320 non-null object\n",
      "dtypes: object(7)\n",
      "memory usage: 7.8+ MB\n"
     ]
    }
   ],
   "source": [
    "proposicoes.info()"
   ]
  },
  {
   "cell_type": "code",
   "execution_count": null,
   "metadata": {},
   "outputs": [],
   "source": []
  },
  {
   "cell_type": "code",
   "execution_count": 66,
   "metadata": {},
   "outputs": [],
   "source": [
    "def cria(linha):\n",
    "    tipo = str(linha[\"siglaTipo\"])\n",
    "    numero = str(linha['numero'])\n",
    "    ano = str(linha['ano'])\n",
    "    id_ = str(linha['id'])\n",
    "    documento = tipo + ' ' + numero + '/' + ano + ' - ' + id_\n",
    "    return documento\n",
    "\n",
    "proposicoes[\"codigo_unico\"] = proposicoes.apply(cria, axis=1)"
   ]
  },
  {
   "cell_type": "code",
   "execution_count": null,
   "metadata": {},
   "outputs": [],
   "source": []
  },
  {
   "cell_type": "code",
   "execution_count": 67,
   "metadata": {},
   "outputs": [],
   "source": [
    "# Trabalha com uma copia da coluna ementa"
   ]
  },
  {
   "cell_type": "code",
   "execution_count": 68,
   "metadata": {},
   "outputs": [],
   "source": [
    "proposicoes[\"ementa_copia\"] = proposicoes[\"ementa\"]"
   ]
  },
  {
   "cell_type": "code",
   "execution_count": 69,
   "metadata": {},
   "outputs": [
    {
     "name": "stdout",
     "output_type": "stream",
     "text": [
      "<class 'pandas.core.frame.DataFrame'>\n",
      "RangeIndex: 146322 entries, 0 to 146321\n",
      "Data columns (total 9 columns):\n",
      "ano             146322 non-null object\n",
      "ementa          144347 non-null object\n",
      "id              146322 non-null object\n",
      "idTipo          146322 non-null object\n",
      "numero          146322 non-null object\n",
      "siglaTipo       146321 non-null object\n",
      "uri             146320 non-null object\n",
      "codigo_unico    146322 non-null object\n",
      "ementa_copia    144347 non-null object\n",
      "dtypes: object(9)\n",
      "memory usage: 10.0+ MB\n"
     ]
    }
   ],
   "source": [
    "proposicoes.info()"
   ]
  },
  {
   "cell_type": "code",
   "execution_count": null,
   "metadata": {},
   "outputs": [],
   "source": []
  },
  {
   "cell_type": "code",
   "execution_count": 70,
   "metadata": {},
   "outputs": [],
   "source": [
    "# Rotinas para tirar pontuacao e deixar minuscula"
   ]
  },
  {
   "cell_type": "code",
   "execution_count": 71,
   "metadata": {},
   "outputs": [],
   "source": [
    "def limpeza1(linha):\n",
    "    documento = str(linha[\"ementa_copia\"])\n",
    "    documento = documento.strip()\n",
    "    documento = documento.replace(',', '')\n",
    "    documento = documento.replace('.', '')\n",
    "    documento = documento.replace('-', '')\n",
    "    documento = documento.replace('/', '')\n",
    "    documento = documento.replace(';', '')\n",
    "    documento = documento.replace('\"', '')\n",
    "    documento = documento.translate(string.punctuation)\n",
    "    documento = documento.lower()\n",
    "    return documento\n",
    "    \n",
    "proposicoes[\"ementa_copia\"] = proposicoes.apply(limpeza1, axis=1)"
   ]
  },
  {
   "cell_type": "code",
   "execution_count": null,
   "metadata": {},
   "outputs": [],
   "source": []
  },
  {
   "cell_type": "code",
   "execution_count": 72,
   "metadata": {},
   "outputs": [],
   "source": [
    "# Cria arquivo para checagem visual"
   ]
  },
  {
   "cell_type": "code",
   "execution_count": 73,
   "metadata": {},
   "outputs": [],
   "source": [
    "proposicoes.to_excel('resultados/teste.xlsx',sheet_name='Sheet1')"
   ]
  },
  {
   "cell_type": "code",
   "execution_count": null,
   "metadata": {},
   "outputs": [],
   "source": [
    "    "
   ]
  },
  {
   "cell_type": "code",
   "execution_count": 74,
   "metadata": {},
   "outputs": [
    {
     "name": "stdout",
     "output_type": "stream",
     "text": [
      "<class 'pandas.core.frame.DataFrame'>\n",
      "RangeIndex: 146322 entries, 0 to 146321\n",
      "Data columns (total 9 columns):\n",
      "ano             146322 non-null object\n",
      "ementa          144347 non-null object\n",
      "id              146322 non-null object\n",
      "idTipo          146322 non-null object\n",
      "numero          146322 non-null object\n",
      "siglaTipo       146321 non-null object\n",
      "uri             146320 non-null object\n",
      "codigo_unico    146322 non-null object\n",
      "ementa_copia    146322 non-null object\n",
      "dtypes: object(9)\n",
      "memory usage: 10.0+ MB\n"
     ]
    }
   ],
   "source": [
    "proposicoes.info()"
   ]
  },
  {
   "cell_type": "code",
   "execution_count": null,
   "metadata": {},
   "outputs": [],
   "source": []
  },
  {
   "cell_type": "code",
   "execution_count": null,
   "metadata": {},
   "outputs": [],
   "source": [
    "#Words_array"
   ]
  },
  {
   "cell_type": "code",
   "execution_count": 75,
   "metadata": {},
   "outputs": [],
   "source": [
    "def limpeza2(linha):\n",
    "    documento = str(linha[\"ementa_copia\"])\n",
    "    documento = documento.split(' ')\n",
    "    return documento\n",
    "      \n",
    "proposicoes[\"words_array\"] = proposicoes.apply(limpeza2, axis=1)"
   ]
  },
  {
   "cell_type": "code",
   "execution_count": null,
   "metadata": {},
   "outputs": [],
   "source": []
  },
  {
   "cell_type": "code",
   "execution_count": 76,
   "metadata": {},
   "outputs": [
    {
     "data": {
      "text/html": [
       "<div>\n",
       "<style scoped>\n",
       "    .dataframe tbody tr th:only-of-type {\n",
       "        vertical-align: middle;\n",
       "    }\n",
       "\n",
       "    .dataframe tbody tr th {\n",
       "        vertical-align: top;\n",
       "    }\n",
       "\n",
       "    .dataframe thead th {\n",
       "        text-align: right;\n",
       "    }\n",
       "</style>\n",
       "<table border=\"1\" class=\"dataframe\">\n",
       "  <thead>\n",
       "    <tr style=\"text-align: right;\">\n",
       "      <th></th>\n",
       "      <th>index</th>\n",
       "      <th>ano</th>\n",
       "      <th>ementa</th>\n",
       "      <th>id</th>\n",
       "      <th>idTipo</th>\n",
       "      <th>numero</th>\n",
       "      <th>siglaTipo</th>\n",
       "      <th>uri</th>\n",
       "      <th>codigo_unico</th>\n",
       "      <th>ementa_copia</th>\n",
       "      <th>words_array</th>\n",
       "    </tr>\n",
       "  </thead>\n",
       "  <tbody>\n",
       "    <tr>\n",
       "      <th>0</th>\n",
       "      <td>0</td>\n",
       "      <td>2010</td>\n",
       "      <td>Comunica o Excelentíssimo Senhor Presidente da...</td>\n",
       "      <td>465465</td>\n",
       "      <td>412</td>\n",
       "      <td>36</td>\n",
       "      <td>MSC</td>\n",
       "      <td>https://dadosabertos.camara.leg.br/api/v2/prop...</td>\n",
       "      <td>MSC 36/2010 - 465465</td>\n",
       "      <td>comunica o excelentíssimo senhor presidente da...</td>\n",
       "      <td>[comunica, o, excelentíssimo, senhor, presiden...</td>\n",
       "    </tr>\n",
       "    <tr>\n",
       "      <th>1</th>\n",
       "      <td>1</td>\n",
       "      <td>2010</td>\n",
       "      <td>Abre crédito extraordinário, em favor da Presi...</td>\n",
       "      <td>465466</td>\n",
       "      <td>291</td>\n",
       "      <td>480</td>\n",
       "      <td>MPV</td>\n",
       "      <td>https://dadosabertos.camara.leg.br/api/v2/prop...</td>\n",
       "      <td>MPV 480/2010 - 465466</td>\n",
       "      <td>abre crédito extraordinário em favor da presid...</td>\n",
       "      <td>[abre, crédito, extraordinário, em, favor, da,...</td>\n",
       "    </tr>\n",
       "    <tr>\n",
       "      <th>2</th>\n",
       "      <td>2</td>\n",
       "      <td>2010</td>\n",
       "      <td>Comunica o Excelentíssimo Senhor Presidente da...</td>\n",
       "      <td>465467</td>\n",
       "      <td>415</td>\n",
       "      <td>38</td>\n",
       "      <td>MSC</td>\n",
       "      <td>https://dadosabertos.camara.leg.br/api/v2/prop...</td>\n",
       "      <td>MSC 38/2010 - 465467</td>\n",
       "      <td>comunica o excelentíssimo senhor presidente da...</td>\n",
       "      <td>[comunica, o, excelentíssimo, senhor, presiden...</td>\n",
       "    </tr>\n",
       "    <tr>\n",
       "      <th>3</th>\n",
       "      <td>3</td>\n",
       "      <td>2010</td>\n",
       "      <td>Submete à deliberação do Congresso Nacional Pr...</td>\n",
       "      <td>465469</td>\n",
       "      <td>134</td>\n",
       "      <td>42</td>\n",
       "      <td>MSC</td>\n",
       "      <td>https://dadosabertos.camara.leg.br/api/v2/prop...</td>\n",
       "      <td>MSC 42/2010 - 465469</td>\n",
       "      <td>submete à deliberação do congresso nacional pr...</td>\n",
       "      <td>[submete, à, deliberação, do, congresso, nacio...</td>\n",
       "    </tr>\n",
       "    <tr>\n",
       "      <th>4</th>\n",
       "      <td>4</td>\n",
       "      <td>2010</td>\n",
       "      <td>Concede auxílio especial e bolsa especial aos ...</td>\n",
       "      <td>465470</td>\n",
       "      <td>139</td>\n",
       "      <td>6720</td>\n",
       "      <td>PL</td>\n",
       "      <td>https://dadosabertos.camara.leg.br/api/v2/prop...</td>\n",
       "      <td>PL 6720/2010 - 465470</td>\n",
       "      <td>concede auxílio especial e bolsa especial aos ...</td>\n",
       "      <td>[concede, auxílio, especial, e, bolsa, especia...</td>\n",
       "    </tr>\n",
       "  </tbody>\n",
       "</table>\n",
       "</div>"
      ],
      "text/plain": [
       "   index   ano                                             ementa      id  \\\n",
       "0      0  2010  Comunica o Excelentíssimo Senhor Presidente da...  465465   \n",
       "1      1  2010  Abre crédito extraordinário, em favor da Presi...  465466   \n",
       "2      2  2010  Comunica o Excelentíssimo Senhor Presidente da...  465467   \n",
       "3      3  2010  Submete à deliberação do Congresso Nacional Pr...  465469   \n",
       "4      4  2010  Concede auxílio especial e bolsa especial aos ...  465470   \n",
       "\n",
       "  idTipo numero siglaTipo                                                uri  \\\n",
       "0    412     36       MSC  https://dadosabertos.camara.leg.br/api/v2/prop...   \n",
       "1    291    480       MPV  https://dadosabertos.camara.leg.br/api/v2/prop...   \n",
       "2    415     38       MSC  https://dadosabertos.camara.leg.br/api/v2/prop...   \n",
       "3    134     42       MSC  https://dadosabertos.camara.leg.br/api/v2/prop...   \n",
       "4    139   6720        PL  https://dadosabertos.camara.leg.br/api/v2/prop...   \n",
       "\n",
       "            codigo_unico                                       ementa_copia  \\\n",
       "0   MSC 36/2010 - 465465  comunica o excelentíssimo senhor presidente da...   \n",
       "1  MPV 480/2010 - 465466  abre crédito extraordinário em favor da presid...   \n",
       "2   MSC 38/2010 - 465467  comunica o excelentíssimo senhor presidente da...   \n",
       "3   MSC 42/2010 - 465469  submete à deliberação do congresso nacional pr...   \n",
       "4  PL 6720/2010 - 465470  concede auxílio especial e bolsa especial aos ...   \n",
       "\n",
       "                                         words_array  \n",
       "0  [comunica, o, excelentíssimo, senhor, presiden...  \n",
       "1  [abre, crédito, extraordinário, em, favor, da,...  \n",
       "2  [comunica, o, excelentíssimo, senhor, presiden...  \n",
       "3  [submete, à, deliberação, do, congresso, nacio...  \n",
       "4  [concede, auxílio, especial, e, bolsa, especia...  "
      ]
     },
     "execution_count": 76,
     "metadata": {},
     "output_type": "execute_result"
    }
   ],
   "source": [
    "proposicoes.reset_index().head()"
   ]
  },
  {
   "cell_type": "code",
   "execution_count": null,
   "metadata": {},
   "outputs": [],
   "source": []
  },
  {
   "cell_type": "code",
   "execution_count": null,
   "metadata": {},
   "outputs": [],
   "source": []
  }
 ],
 "metadata": {
  "kernelspec": {
   "display_name": "Python 3",
   "language": "python",
   "name": "python3"
  },
  "language_info": {
   "codemirror_mode": {
    "name": "ipython",
    "version": 3
   },
   "file_extension": ".py",
   "mimetype": "text/x-python",
   "name": "python",
   "nbconvert_exporter": "python",
   "pygments_lexer": "ipython3",
   "version": "3.6.2"
  }
 },
 "nbformat": 4,
 "nbformat_minor": 2
}

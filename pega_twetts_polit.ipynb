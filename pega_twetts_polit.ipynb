{
 "cells": [
  {
   "cell_type": "code",
   "execution_count": 1,
   "metadata": {},
   "outputs": [],
   "source": [
    "# -*- coding: utf-8\n",
    "# Reinaldo Chaves (@paidatocandeira)\n",
    "# Procura tweets de políticos a partir de um dataframe com os endereços"
   ]
  },
  {
   "cell_type": "code",
   "execution_count": null,
   "metadata": {},
   "outputs": [],
   "source": [
    "import pendulum # para trabalhar com datas\n",
    "import tweepy\n",
    "import csv\n",
    "import os\n",
    "import pandas as pd\n",
    "from dotenv import load_dotenv, find_dotenv\n",
    "load_dotenv(find_dotenv())"
   ]
  },
  {
   "cell_type": "code",
   "execution_count": null,
   "metadata": {},
   "outputs": [],
   "source": []
  },
  {
   "cell_type": "code",
   "execution_count": 13,
   "metadata": {},
   "outputs": [],
   "source": [
    "consumer_key = ''\n",
    "consumer_secret = ''\n",
    "access_token = ''\n",
    "access_token_secret = ''"
   ]
  },
  {
   "cell_type": "code",
   "execution_count": null,
   "metadata": {},
   "outputs": [],
   "source": []
  },
  {
   "cell_type": "code",
   "execution_count": 3,
   "metadata": {},
   "outputs": [],
   "source": [
    "# Configurando o tweepy\n",
    "auth = tweepy.OAuthHandler(consumer_key, consumer_secret)\n",
    "auth.set_access_token(access_token, access_token_secret)\n",
    "\n",
    "api = tweepy.API(auth)"
   ]
  },
  {
   "cell_type": "code",
   "execution_count": null,
   "metadata": {},
   "outputs": [],
   "source": []
  },
  {
   "cell_type": "code",
   "execution_count": 6,
   "metadata": {},
   "outputs": [],
   "source": [
    "resposta = api.get_user('feresSergio')\n",
    "#resposta._json"
   ]
  },
  {
   "cell_type": "code",
   "execution_count": 7,
   "metadata": {},
   "outputs": [],
   "source": [
    "#api.user_timeline('feresSergio') "
   ]
  },
  {
   "cell_type": "code",
   "execution_count": 26,
   "metadata": {},
   "outputs": [
    {
     "name": "stdout",
     "output_type": "stream",
     "text": [
      "ISABEL TEIXEIRA\n",
      "ALEXANDRE MACHADO\n",
      "FABIO CHAZYN\n",
      "IRIA CABRERA\n",
      "MARCONI\n",
      "MARISA LOBO PSICOLOGA CRISTÃ\n",
      "FRANCISCO LUCIO\n",
      "MARCUS VICENTE\n",
      "INACIO HENRIQUE\n",
      "DR. RICARDO SMARZARO\n",
      "DEMONTIE\n",
      "CARLOS BETTIATI\n",
      "ADÉRMIS MARINI\n",
      "PAULO GANIME\n",
      "ATAÍDES OLIVEIRA\n",
      "EDUARDO CUSTO ZERO\n",
      "FELIPE RIGONI\n",
      "LEO MESQUITA\n",
      "CRISTOVAM\n",
      "DÉBORA\n",
      "CABO GLAUCIA\n",
      "DAGOSTINO\n",
      "MONICA ROSENBERG\n",
      "EDSON SARDANO\n",
      "BRUNO EIZERIK\n",
      "DARIA CRISTINA\n",
      "COMANDANTE SARMENTO\n",
      "MISAEL NEMESEK\n",
      "JACKSON CABANAS\n",
      "WALTER STANULA\n",
      "CORONEL ROCHA\n",
      "JARDEL BARROS\n",
      "CEZAR ALMEIDA\n",
      "ASSIS MARINHO\n",
      "ODECIO CARNEIRO\n",
      "CORONEL FERES\n",
      "BATATA ANDERSON\n",
      "PROFESSOR CEZAR HILDO\n",
      "SANIVIA AVELAR\n",
      "CADILHE DA SAÚDE\n",
      "ANDREIA UMBELINA\n",
      "VENEGAS DO COMEX\n",
      "WASHINGTON GRIMAS\n",
      "THAME\n",
      "MOACYR FERNANDES\n",
      "ADRIANO MARINHO\n",
      "AILTON AMARAL\n",
      "PROFESSOR ROBSON SALVADOR\n",
      "LUIZ CEBOLA\n",
      "MARCIA VIVIANE\n",
      "DR. ROBERSON\n",
      "MARIA ANASTASIE\n",
      "COVATTI FILHO\n",
      "TONINHO FELDMANN\n",
      "TATI PINHEIRO\n",
      "ROSANNE GARCIA\n",
      "FLAVIO CAVALCANTI JR\n",
      "ANDRE RICARDO\n",
      "SARGENTO ETIENE\n",
      "GUSTAVO FRUET\n",
      "BRUNO KAISER\n",
      "FABIO RODRIGUES\n",
      "JORGE FRANÇA\n",
      "MARCOS DO VAL\n",
      "CRIS DO NOVO\n",
      "POLICIAL CIVIL ANDERSON AMORIM\n",
      "FREDERICO FRANÇA\n",
      "OSÉIAS FRANCISCO\n",
      "MARÇAL BORGGES\n",
      "LUIS BUCCIARELLI\n"
     ]
    }
   ],
   "source": [
    "def get_all_tweets(screen_name, cpf, politico):\n",
    "    #Twitter only allows access to a users most recent 3240 tweets with this method\n",
    "\n",
    "    #authorize twitter, initialize tweepy\n",
    "    auth = tweepy.OAuthHandler(consumer_key, consumer_secret)\n",
    "    #auth.set_access_token(access_key, access_secret)\n",
    "    auth.set_access_token(access_token, access_token_secret)\n",
    "    api = tweepy.API(auth)\n",
    "\n",
    "    #initialize a list to hold all the tweepy Tweets\n",
    "    alltweets = []  \n",
    "\n",
    "    #make initial request for most recent tweets (200 is the maximum allowed count)\n",
    "    new_tweets = api.user_timeline(screen_name = screen_name,count=200)\n",
    "\n",
    "    #save most recent tweets\n",
    "    alltweets.extend(new_tweets)\n",
    "\n",
    "    #save the id of the oldest tweet less one\n",
    "    oldest = alltweets[-1].id - 1\n",
    "\n",
    "    #keep grabbing tweets until there are no tweets left to grab\n",
    "    while len(new_tweets) > 0:\n",
    "        #print \"getting tweets before %s\" % (oldest)\n",
    "\n",
    "        #all subsiquent requests use the max_id param to prevent duplicates\n",
    "        new_tweets = api.user_timeline(screen_name = screen_name,count=200,max_id=oldest)\n",
    "\n",
    "        #save most recent tweets\n",
    "        alltweets.extend(new_tweets)\n",
    "\n",
    "        #update the id of the oldest tweet less one\n",
    "        oldest = alltweets[-1].id - 1\n",
    "\n",
    "        #print \"...%s tweets downloaded so far\" % (len(alltweets))\n",
    "\n",
    "    #transform the tweepy tweets into a 2D array that will populate the csv \n",
    "    outtweets = [[screen_name, cpf, politico, tweet.id_str, tweet.created_at, tweet.text.encode(\"utf-8\")] for tweet in alltweets]\n",
    "\n",
    "    #write the csv \n",
    "    with open('%s_tweets.csv' % screen_name, 'w') as f:\n",
    "        writer = csv.writer(f)\n",
    "        writer.writerow([\"conta_twitter\", \"cpf\", \"politico\", \"id\",\"created_at\",\"text\"])\n",
    "        writer.writerows(outtweets)\n",
    "\n",
    "    pass\n",
    "\n",
    "\n",
    "if __name__ == '__main__':\n",
    "    #pass in the username of the account you want to download\n",
    "    candidatos = pd.read_excel('/home/reinaldo/Documentos/Code/ti/repo/besouro/resultados/consolidado/planilha_selecionados_dia3set.xlsx',sheet_name='Planilha1', converters={'cpf': lambda x: str(x),\n",
    "'numero_urna': lambda x: str(x)})\n",
    "    candidatos = candidatos[(candidatos['pacto'] == 'SEM RESPOSTA')]\n",
    "    \n",
    "    for num, row in candidatos.iterrows():\n",
    "        cpf = (row['cpf']).strip()\n",
    "        politico = (row['nome_urna']).strip()\n",
    "        endereco = (row['url_twitter']).strip()\n",
    "                \n",
    "        if endereco != 'SEM INFORMAÇÕES':\n",
    "            print(politico)\n",
    "            get_all_tweets(endereco, cpf, politico)"
   ]
  },
  {
   "cell_type": "code",
   "execution_count": null,
   "metadata": {},
   "outputs": [],
   "source": []
  }
 ],
 "metadata": {
  "kernelspec": {
   "display_name": "Python 3",
   "language": "python",
   "name": "python3"
  },
  "language_info": {
   "codemirror_mode": {
    "name": "ipython",
    "version": 3
   },
   "file_extension": ".py",
   "mimetype": "text/x-python",
   "name": "python",
   "nbconvert_exporter": "python",
   "pygments_lexer": "ipython3",
   "version": "3.6.2"
  }
 },
 "nbformat": 4,
 "nbformat_minor": 2
}

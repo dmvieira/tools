{
 "cells": [
  {
   "cell_type": "code",
   "execution_count": null,
   "metadata": {},
   "outputs": [],
   "source": [
    "# https://www.youtube.com/watch?v=W_Bz7M91R1Q"
   ]
  },
  {
   "cell_type": "code",
   "execution_count": null,
   "metadata": {},
   "outputs": [],
   "source": [
    "import pandas as pd\n",
    "%matplotlib inline"
   ]
  },
  {
   "cell_type": "code",
   "execution_count": null,
   "metadata": {},
   "outputs": [],
   "source": []
  },
  {
   "cell_type": "markdown",
   "metadata": {},
   "source": [
    "Fonte: http://dados.df.gov.br/dataset/cirurgias-ambulatoriais/resource/fe9f0505-b8fa-4db7-99c4-642b31c14b6b"
   ]
  },
  {
   "cell_type": "code",
   "execution_count": null,
   "metadata": {},
   "outputs": [],
   "source": []
  },
  {
   "cell_type": "code",
   "execution_count": 2,
   "metadata": {},
   "outputs": [],
   "source": [
    "df = pd.read_csv(\"cirurgias_df/sih-janeiro-2017-cirurgias-eletiva-e-emergencia.csv\", sep = ';', encoding = 'latin_1')"
   ]
  },
  {
   "cell_type": "code",
   "execution_count": null,
   "metadata": {},
   "outputs": [],
   "source": []
  },
  {
   "cell_type": "code",
   "execution_count": 3,
   "metadata": {},
   "outputs": [
    {
     "name": "stdout",
     "output_type": "stream",
     "text": [
      "<class 'pandas.core.frame.DataFrame'>\n",
      "RangeIndex: 4862 entries, 0 to 4861\n",
      "Data columns (total 16 columns):\n",
      "Mes ref                                4862 non-null int64\n",
      "Mes de processamento mm                4862 non-null object\n",
      "Ano de processamento aaaa              4862 non-null int64\n",
      "Estabelecimento cnes                   4862 non-null object\n",
      "Codigo regiao                          4862 non-null int64\n",
      "Regiao                                 4862 non-null object\n",
      "Municipio do estabelecimento           4862 non-null object\n",
      "Complexidade do Procedimento           4862 non-null object\n",
      "Carater da internaca/ATENDIMENTO       4862 non-null object\n",
      "Codigo grupo                           4862 non-null int64\n",
      "Grupo procedimento realizado           4862 non-null object\n",
      "Codigo Sub grupo                       4862 non-null int64\n",
      "Sub grupo procedimento realizado       4862 non-null object\n",
      "Codigo do procedimento realizado       4862 non-null int64\n",
      "Procedimento realizado                 4862 non-null object\n",
      "Quantidade aprovada do procedimento    4862 non-null int64\n",
      "dtypes: int64(7), object(9)\n",
      "memory usage: 607.8+ KB\n"
     ]
    }
   ],
   "source": [
    "df.info()"
   ]
  },
  {
   "cell_type": "code",
   "execution_count": null,
   "metadata": {},
   "outputs": [],
   "source": []
  },
  {
   "cell_type": "code",
   "execution_count": 4,
   "metadata": {},
   "outputs": [
    {
     "data": {
      "text/html": [
       "<div>\n",
       "<style scoped>\n",
       "    .dataframe tbody tr th:only-of-type {\n",
       "        vertical-align: middle;\n",
       "    }\n",
       "\n",
       "    .dataframe tbody tr th {\n",
       "        vertical-align: top;\n",
       "    }\n",
       "\n",
       "    .dataframe thead th {\n",
       "        text-align: right;\n",
       "    }\n",
       "</style>\n",
       "<table border=\"1\" class=\"dataframe\">\n",
       "  <thead>\n",
       "    <tr style=\"text-align: right;\">\n",
       "      <th></th>\n",
       "      <th>index</th>\n",
       "      <th>Mes ref</th>\n",
       "      <th>Mes de processamento mm</th>\n",
       "      <th>Ano de processamento aaaa</th>\n",
       "      <th>Estabelecimento cnes</th>\n",
       "      <th>Codigo regiao</th>\n",
       "      <th>Regiao</th>\n",
       "      <th>Municipio do estabelecimento</th>\n",
       "      <th>Complexidade do Procedimento</th>\n",
       "      <th>Carater da internaca/ATENDIMENTO</th>\n",
       "      <th>Codigo grupo</th>\n",
       "      <th>Grupo procedimento realizado</th>\n",
       "      <th>Codigo Sub grupo</th>\n",
       "      <th>Sub grupo procedimento realizado</th>\n",
       "      <th>Codigo do procedimento realizado</th>\n",
       "      <th>Procedimento realizado</th>\n",
       "      <th>Quantidade aprovada do procedimento</th>\n",
       "    </tr>\n",
       "  </thead>\n",
       "  <tbody>\n",
       "    <tr>\n",
       "      <th>0</th>\n",
       "      <td>0</td>\n",
       "      <td>1</td>\n",
       "      <td>JANEIRO</td>\n",
       "      <td>2017</td>\n",
       "      <td>6876617 HOSPITAL DA CRIANCA DE BRASILIA JOSE A...</td>\n",
       "      <td>8</td>\n",
       "      <td>URD</td>\n",
       "      <td>BRASILIA, DF, BR</td>\n",
       "      <td>Média complexidade</td>\n",
       "      <td>Eletivo</td>\n",
       "      <td>4</td>\n",
       "      <td>04 - Procedimentos cirúrgicos</td>\n",
       "      <td>415</td>\n",
       "      <td>Sub Grupo: 15 - Outras cirurgias</td>\n",
       "      <td>415010012</td>\n",
       "      <td>TRATAMENTO C/ CIRURGIAS MULTIPLAS</td>\n",
       "      <td>1</td>\n",
       "    </tr>\n",
       "    <tr>\n",
       "      <th>1</th>\n",
       "      <td>1</td>\n",
       "      <td>1</td>\n",
       "      <td>JANEIRO</td>\n",
       "      <td>2017</td>\n",
       "      <td>0010456 HBDF HOSPITAL DE BASE DO DISTRITO FEDERAL</td>\n",
       "      <td>8</td>\n",
       "      <td>URD</td>\n",
       "      <td>BRASILIA, DF, BR</td>\n",
       "      <td>Média complexidade</td>\n",
       "      <td>Urgência</td>\n",
       "      <td>4</td>\n",
       "      <td>04 - Procedimentos cirúrgicos</td>\n",
       "      <td>403</td>\n",
       "      <td>Sub Grupo: 03 - Cirurgia do sistema nervoso ce...</td>\n",
       "      <td>403010098</td>\n",
       "      <td>DERIVACAO VENTRICULAR EXTERNAR-SUBGALEAL EXTERNA</td>\n",
       "      <td>1</td>\n",
       "    </tr>\n",
       "    <tr>\n",
       "      <th>2</th>\n",
       "      <td>2</td>\n",
       "      <td>1</td>\n",
       "      <td>JANEIRO</td>\n",
       "      <td>2017</td>\n",
       "      <td>0010456 HBDF HOSPITAL DE BASE DO DISTRITO FEDERAL</td>\n",
       "      <td>8</td>\n",
       "      <td>URD</td>\n",
       "      <td>BRASILIA, DF, BR</td>\n",
       "      <td>Média complexidade</td>\n",
       "      <td>Urgência</td>\n",
       "      <td>4</td>\n",
       "      <td>04 - Procedimentos cirúrgicos</td>\n",
       "      <td>415</td>\n",
       "      <td>Sub Grupo: 15 - Outras cirurgias</td>\n",
       "      <td>415010012</td>\n",
       "      <td>TRATAMENTO C/ CIRURGIAS MULTIPLAS</td>\n",
       "      <td>1</td>\n",
       "    </tr>\n",
       "    <tr>\n",
       "      <th>3</th>\n",
       "      <td>3</td>\n",
       "      <td>1</td>\n",
       "      <td>JANEIRO</td>\n",
       "      <td>2017</td>\n",
       "      <td>6876617 HOSPITAL DA CRIANCA DE BRASILIA JOSE A...</td>\n",
       "      <td>8</td>\n",
       "      <td>URD</td>\n",
       "      <td>BRASILIA, DF, BR</td>\n",
       "      <td>Média complexidade</td>\n",
       "      <td>Eletivo</td>\n",
       "      <td>4</td>\n",
       "      <td>04 - Procedimentos cirúrgicos</td>\n",
       "      <td>407</td>\n",
       "      <td>Sub Grupo: 07 - Cirurgia do aparelho digestivo...</td>\n",
       "      <td>407040129</td>\n",
       "      <td>HERNIOPLASTIA UMBILICAL</td>\n",
       "      <td>1</td>\n",
       "    </tr>\n",
       "    <tr>\n",
       "      <th>4</th>\n",
       "      <td>4</td>\n",
       "      <td>1</td>\n",
       "      <td>JANEIRO</td>\n",
       "      <td>2017</td>\n",
       "      <td>0010456 HBDF HOSPITAL DE BASE DO DISTRITO FEDERAL</td>\n",
       "      <td>8</td>\n",
       "      <td>URD</td>\n",
       "      <td>BRASILIA, DF, BR</td>\n",
       "      <td>Alta complexidade</td>\n",
       "      <td>Eletivo</td>\n",
       "      <td>4</td>\n",
       "      <td>04 - Procedimentos cirúrgicos</td>\n",
       "      <td>416</td>\n",
       "      <td>Sub Grupo: 16 - Cirurgia em oncologia</td>\n",
       "      <td>416090133</td>\n",
       "      <td>RESSECCAO DE TUMOR DE PARTES MOLES EM ONCOLOGIA</td>\n",
       "      <td>1</td>\n",
       "    </tr>\n",
       "  </tbody>\n",
       "</table>\n",
       "</div>"
      ],
      "text/plain": [
       "   index  Mes ref Mes de processamento mm  Ano de processamento aaaa  \\\n",
       "0      0        1                 JANEIRO                       2017   \n",
       "1      1        1                 JANEIRO                       2017   \n",
       "2      2        1                 JANEIRO                       2017   \n",
       "3      3        1                 JANEIRO                       2017   \n",
       "4      4        1                 JANEIRO                       2017   \n",
       "\n",
       "                                Estabelecimento cnes  Codigo regiao Regiao  \\\n",
       "0  6876617 HOSPITAL DA CRIANCA DE BRASILIA JOSE A...              8    URD   \n",
       "1  0010456 HBDF HOSPITAL DE BASE DO DISTRITO FEDERAL              8    URD   \n",
       "2  0010456 HBDF HOSPITAL DE BASE DO DISTRITO FEDERAL              8    URD   \n",
       "3  6876617 HOSPITAL DA CRIANCA DE BRASILIA JOSE A...              8    URD   \n",
       "4  0010456 HBDF HOSPITAL DE BASE DO DISTRITO FEDERAL              8    URD   \n",
       "\n",
       "  Municipio do estabelecimento Complexidade do Procedimento  \\\n",
       "0            BRASILIA, DF, BR            Média complexidade   \n",
       "1            BRASILIA, DF, BR            Média complexidade   \n",
       "2            BRASILIA, DF, BR            Média complexidade   \n",
       "3            BRASILIA, DF, BR            Média complexidade   \n",
       "4            BRASILIA, DF, BR             Alta complexidade   \n",
       "\n",
       "  Carater da internaca/ATENDIMENTO  Codigo grupo  \\\n",
       "0                          Eletivo             4   \n",
       "1                         Urgência             4   \n",
       "2                         Urgência             4   \n",
       "3                          Eletivo             4   \n",
       "4                          Eletivo             4   \n",
       "\n",
       "    Grupo procedimento realizado  Codigo Sub grupo  \\\n",
       "0  04 - Procedimentos cirúrgicos               415   \n",
       "1  04 - Procedimentos cirúrgicos               403   \n",
       "2  04 - Procedimentos cirúrgicos               415   \n",
       "3  04 - Procedimentos cirúrgicos               407   \n",
       "4  04 - Procedimentos cirúrgicos               416   \n",
       "\n",
       "                    Sub grupo procedimento realizado  \\\n",
       "0                   Sub Grupo: 15 - Outras cirurgias   \n",
       "1  Sub Grupo: 03 - Cirurgia do sistema nervoso ce...   \n",
       "2                   Sub Grupo: 15 - Outras cirurgias   \n",
       "3  Sub Grupo: 07 - Cirurgia do aparelho digestivo...   \n",
       "4              Sub Grupo: 16 - Cirurgia em oncologia   \n",
       "\n",
       "   Codigo do procedimento realizado  \\\n",
       "0                         415010012   \n",
       "1                         403010098   \n",
       "2                         415010012   \n",
       "3                         407040129   \n",
       "4                         416090133   \n",
       "\n",
       "                             Procedimento realizado  \\\n",
       "0                 TRATAMENTO C/ CIRURGIAS MULTIPLAS   \n",
       "1  DERIVACAO VENTRICULAR EXTERNAR-SUBGALEAL EXTERNA   \n",
       "2                 TRATAMENTO C/ CIRURGIAS MULTIPLAS   \n",
       "3                           HERNIOPLASTIA UMBILICAL   \n",
       "4   RESSECCAO DE TUMOR DE PARTES MOLES EM ONCOLOGIA   \n",
       "\n",
       "   Quantidade aprovada do procedimento  \n",
       "0                                    1  \n",
       "1                                    1  \n",
       "2                                    1  \n",
       "3                                    1  \n",
       "4                                    1  "
      ]
     },
     "execution_count": 4,
     "metadata": {},
     "output_type": "execute_result"
    }
   ],
   "source": [
    "df.reset_index().head()"
   ]
  },
  {
   "cell_type": "code",
   "execution_count": null,
   "metadata": {},
   "outputs": [],
   "source": []
  },
  {
   "cell_type": "markdown",
   "metadata": {},
   "source": [
    "# Importa só algumas colunas"
   ]
  },
  {
   "cell_type": "code",
   "execution_count": 5,
   "metadata": {},
   "outputs": [],
   "source": [
    "# 3 - Estabelecimento cnes \n",
    "# 6 - Municipio do estabelecimento \n",
    "# 7 - Complexidade do Procedimento\n",
    "# 8 - Carater da internaca/ATENDIMENTO\n",
    "# 12 - Sub grupo procedimento realizado\n",
    "# 14 - Procedimento realizado"
   ]
  },
  {
   "cell_type": "code",
   "execution_count": 6,
   "metadata": {},
   "outputs": [],
   "source": [
    "df = pd.read_csv(\"cirurgias_df/sih-janeiro-2017-cirurgias-eletiva-e-emergencia.csv\", sep = ';', \n",
    "                 encoding = 'latin_1', usecols=[3,6,7,8,12,14])"
   ]
  },
  {
   "cell_type": "code",
   "execution_count": null,
   "metadata": {},
   "outputs": [],
   "source": []
  },
  {
   "cell_type": "code",
   "execution_count": 7,
   "metadata": {},
   "outputs": [
    {
     "name": "stdout",
     "output_type": "stream",
     "text": [
      "<class 'pandas.core.frame.DataFrame'>\n",
      "RangeIndex: 4862 entries, 0 to 4861\n",
      "Data columns (total 6 columns):\n",
      "Estabelecimento cnes                4862 non-null object\n",
      "Municipio do estabelecimento        4862 non-null object\n",
      "Complexidade do Procedimento        4862 non-null object\n",
      "Carater da internaca/ATENDIMENTO    4862 non-null object\n",
      "Sub grupo procedimento realizado    4862 non-null object\n",
      "Procedimento realizado              4862 non-null object\n",
      "dtypes: object(6)\n",
      "memory usage: 228.0+ KB\n"
     ]
    }
   ],
   "source": [
    "df.info()"
   ]
  },
  {
   "cell_type": "code",
   "execution_count": 8,
   "metadata": {},
   "outputs": [
    {
     "data": {
      "text/html": [
       "<div>\n",
       "<style scoped>\n",
       "    .dataframe tbody tr th:only-of-type {\n",
       "        vertical-align: middle;\n",
       "    }\n",
       "\n",
       "    .dataframe tbody tr th {\n",
       "        vertical-align: top;\n",
       "    }\n",
       "\n",
       "    .dataframe thead th {\n",
       "        text-align: right;\n",
       "    }\n",
       "</style>\n",
       "<table border=\"1\" class=\"dataframe\">\n",
       "  <thead>\n",
       "    <tr style=\"text-align: right;\">\n",
       "      <th></th>\n",
       "      <th>index</th>\n",
       "      <th>Estabelecimento cnes</th>\n",
       "      <th>Municipio do estabelecimento</th>\n",
       "      <th>Complexidade do Procedimento</th>\n",
       "      <th>Carater da internaca/ATENDIMENTO</th>\n",
       "      <th>Sub grupo procedimento realizado</th>\n",
       "      <th>Procedimento realizado</th>\n",
       "    </tr>\n",
       "  </thead>\n",
       "  <tbody>\n",
       "    <tr>\n",
       "      <th>0</th>\n",
       "      <td>0</td>\n",
       "      <td>6876617 HOSPITAL DA CRIANCA DE BRASILIA JOSE A...</td>\n",
       "      <td>BRASILIA, DF, BR</td>\n",
       "      <td>Média complexidade</td>\n",
       "      <td>Eletivo</td>\n",
       "      <td>Sub Grupo: 15 - Outras cirurgias</td>\n",
       "      <td>TRATAMENTO C/ CIRURGIAS MULTIPLAS</td>\n",
       "    </tr>\n",
       "    <tr>\n",
       "      <th>1</th>\n",
       "      <td>1</td>\n",
       "      <td>0010456 HBDF HOSPITAL DE BASE DO DISTRITO FEDERAL</td>\n",
       "      <td>BRASILIA, DF, BR</td>\n",
       "      <td>Média complexidade</td>\n",
       "      <td>Urgência</td>\n",
       "      <td>Sub Grupo: 03 - Cirurgia do sistema nervoso ce...</td>\n",
       "      <td>DERIVACAO VENTRICULAR EXTERNAR-SUBGALEAL EXTERNA</td>\n",
       "    </tr>\n",
       "    <tr>\n",
       "      <th>2</th>\n",
       "      <td>2</td>\n",
       "      <td>0010456 HBDF HOSPITAL DE BASE DO DISTRITO FEDERAL</td>\n",
       "      <td>BRASILIA, DF, BR</td>\n",
       "      <td>Média complexidade</td>\n",
       "      <td>Urgência</td>\n",
       "      <td>Sub Grupo: 15 - Outras cirurgias</td>\n",
       "      <td>TRATAMENTO C/ CIRURGIAS MULTIPLAS</td>\n",
       "    </tr>\n",
       "  </tbody>\n",
       "</table>\n",
       "</div>"
      ],
      "text/plain": [
       "   index                               Estabelecimento cnes  \\\n",
       "0      0  6876617 HOSPITAL DA CRIANCA DE BRASILIA JOSE A...   \n",
       "1      1  0010456 HBDF HOSPITAL DE BASE DO DISTRITO FEDERAL   \n",
       "2      2  0010456 HBDF HOSPITAL DE BASE DO DISTRITO FEDERAL   \n",
       "\n",
       "  Municipio do estabelecimento Complexidade do Procedimento  \\\n",
       "0            BRASILIA, DF, BR            Média complexidade   \n",
       "1            BRASILIA, DF, BR            Média complexidade   \n",
       "2            BRASILIA, DF, BR            Média complexidade   \n",
       "\n",
       "  Carater da internaca/ATENDIMENTO  \\\n",
       "0                          Eletivo   \n",
       "1                         Urgência   \n",
       "2                         Urgência   \n",
       "\n",
       "                    Sub grupo procedimento realizado  \\\n",
       "0                   Sub Grupo: 15 - Outras cirurgias   \n",
       "1  Sub Grupo: 03 - Cirurgia do sistema nervoso ce...   \n",
       "2                   Sub Grupo: 15 - Outras cirurgias   \n",
       "\n",
       "                             Procedimento realizado  \n",
       "0                 TRATAMENTO C/ CIRURGIAS MULTIPLAS  \n",
       "1  DERIVACAO VENTRICULAR EXTERNAR-SUBGALEAL EXTERNA  \n",
       "2                 TRATAMENTO C/ CIRURGIAS MULTIPLAS  "
      ]
     },
     "execution_count": 8,
     "metadata": {},
     "output_type": "execute_result"
    }
   ],
   "source": [
    "df.reset_index().head(3)"
   ]
  },
  {
   "cell_type": "code",
   "execution_count": null,
   "metadata": {},
   "outputs": [],
   "source": []
  },
  {
   "cell_type": "code",
   "execution_count": 9,
   "metadata": {},
   "outputs": [],
   "source": [
    "# Troca nomes de colunas"
   ]
  },
  {
   "cell_type": "code",
   "execution_count": 10,
   "metadata": {},
   "outputs": [],
   "source": [
    "df.columns = ['hospital', 'municipio', 'complexidade', 'carater_atendimento', 'sub_grupo_procedimento', 'procedimento']"
   ]
  },
  {
   "cell_type": "code",
   "execution_count": 11,
   "metadata": {},
   "outputs": [
    {
     "data": {
      "text/html": [
       "<div>\n",
       "<style scoped>\n",
       "    .dataframe tbody tr th:only-of-type {\n",
       "        vertical-align: middle;\n",
       "    }\n",
       "\n",
       "    .dataframe tbody tr th {\n",
       "        vertical-align: top;\n",
       "    }\n",
       "\n",
       "    .dataframe thead th {\n",
       "        text-align: right;\n",
       "    }\n",
       "</style>\n",
       "<table border=\"1\" class=\"dataframe\">\n",
       "  <thead>\n",
       "    <tr style=\"text-align: right;\">\n",
       "      <th></th>\n",
       "      <th>index</th>\n",
       "      <th>hospital</th>\n",
       "      <th>municipio</th>\n",
       "      <th>complexidade</th>\n",
       "      <th>carater_atendimento</th>\n",
       "      <th>sub_grupo_procedimento</th>\n",
       "      <th>procedimento</th>\n",
       "    </tr>\n",
       "  </thead>\n",
       "  <tbody>\n",
       "    <tr>\n",
       "      <th>0</th>\n",
       "      <td>0</td>\n",
       "      <td>6876617 HOSPITAL DA CRIANCA DE BRASILIA JOSE A...</td>\n",
       "      <td>BRASILIA, DF, BR</td>\n",
       "      <td>Média complexidade</td>\n",
       "      <td>Eletivo</td>\n",
       "      <td>Sub Grupo: 15 - Outras cirurgias</td>\n",
       "      <td>TRATAMENTO C/ CIRURGIAS MULTIPLAS</td>\n",
       "    </tr>\n",
       "    <tr>\n",
       "      <th>1</th>\n",
       "      <td>1</td>\n",
       "      <td>0010456 HBDF HOSPITAL DE BASE DO DISTRITO FEDERAL</td>\n",
       "      <td>BRASILIA, DF, BR</td>\n",
       "      <td>Média complexidade</td>\n",
       "      <td>Urgência</td>\n",
       "      <td>Sub Grupo: 03 - Cirurgia do sistema nervoso ce...</td>\n",
       "      <td>DERIVACAO VENTRICULAR EXTERNAR-SUBGALEAL EXTERNA</td>\n",
       "    </tr>\n",
       "    <tr>\n",
       "      <th>2</th>\n",
       "      <td>2</td>\n",
       "      <td>0010456 HBDF HOSPITAL DE BASE DO DISTRITO FEDERAL</td>\n",
       "      <td>BRASILIA, DF, BR</td>\n",
       "      <td>Média complexidade</td>\n",
       "      <td>Urgência</td>\n",
       "      <td>Sub Grupo: 15 - Outras cirurgias</td>\n",
       "      <td>TRATAMENTO C/ CIRURGIAS MULTIPLAS</td>\n",
       "    </tr>\n",
       "  </tbody>\n",
       "</table>\n",
       "</div>"
      ],
      "text/plain": [
       "   index                                           hospital  \\\n",
       "0      0  6876617 HOSPITAL DA CRIANCA DE BRASILIA JOSE A...   \n",
       "1      1  0010456 HBDF HOSPITAL DE BASE DO DISTRITO FEDERAL   \n",
       "2      2  0010456 HBDF HOSPITAL DE BASE DO DISTRITO FEDERAL   \n",
       "\n",
       "           municipio        complexidade carater_atendimento  \\\n",
       "0  BRASILIA, DF, BR   Média complexidade             Eletivo   \n",
       "1  BRASILIA, DF, BR   Média complexidade            Urgência   \n",
       "2  BRASILIA, DF, BR   Média complexidade            Urgência   \n",
       "\n",
       "                              sub_grupo_procedimento  \\\n",
       "0                   Sub Grupo: 15 - Outras cirurgias   \n",
       "1  Sub Grupo: 03 - Cirurgia do sistema nervoso ce...   \n",
       "2                   Sub Grupo: 15 - Outras cirurgias   \n",
       "\n",
       "                                       procedimento  \n",
       "0                 TRATAMENTO C/ CIRURGIAS MULTIPLAS  \n",
       "1  DERIVACAO VENTRICULAR EXTERNAR-SUBGALEAL EXTERNA  \n",
       "2                 TRATAMENTO C/ CIRURGIAS MULTIPLAS  "
      ]
     },
     "execution_count": 11,
     "metadata": {},
     "output_type": "execute_result"
    }
   ],
   "source": [
    "df.reset_index().head(3)"
   ]
  },
  {
   "cell_type": "code",
   "execution_count": null,
   "metadata": {},
   "outputs": [],
   "source": []
  },
  {
   "cell_type": "code",
   "execution_count": 12,
   "metadata": {},
   "outputs": [
    {
     "data": {
      "text/html": [
       "<div>\n",
       "<style scoped>\n",
       "    .dataframe tbody tr th:only-of-type {\n",
       "        vertical-align: middle;\n",
       "    }\n",
       "\n",
       "    .dataframe tbody tr th {\n",
       "        vertical-align: top;\n",
       "    }\n",
       "\n",
       "    .dataframe thead th {\n",
       "        text-align: right;\n",
       "    }\n",
       "</style>\n",
       "<table border=\"1\" class=\"dataframe\">\n",
       "  <thead>\n",
       "    <tr style=\"text-align: right;\">\n",
       "      <th></th>\n",
       "      <th>hospital</th>\n",
       "      <th>municipio</th>\n",
       "      <th>complexidade</th>\n",
       "      <th>carater_atendimento</th>\n",
       "      <th>sub_grupo_procedimento</th>\n",
       "      <th>procedimento</th>\n",
       "    </tr>\n",
       "  </thead>\n",
       "  <tbody>\n",
       "    <tr>\n",
       "      <th>count</th>\n",
       "      <td>4862</td>\n",
       "      <td>4862</td>\n",
       "      <td>4862</td>\n",
       "      <td>4862</td>\n",
       "      <td>4862</td>\n",
       "      <td>4862</td>\n",
       "    </tr>\n",
       "    <tr>\n",
       "      <th>unique</th>\n",
       "      <td>16</td>\n",
       "      <td>11</td>\n",
       "      <td>2</td>\n",
       "      <td>4</td>\n",
       "      <td>16</td>\n",
       "      <td>495</td>\n",
       "    </tr>\n",
       "    <tr>\n",
       "      <th>top</th>\n",
       "      <td>0010456 HBDF HOSPITAL DE BASE DO DISTRITO FEDERAL</td>\n",
       "      <td>BRASILIA, DF, BR</td>\n",
       "      <td>Média complexidade</td>\n",
       "      <td>Urgência</td>\n",
       "      <td>Sub Grupo: 11 - Cirurgia obstétrica</td>\n",
       "      <td>PARTO CESARIANO</td>\n",
       "    </tr>\n",
       "    <tr>\n",
       "      <th>freq</th>\n",
       "      <td>735</td>\n",
       "      <td>1923</td>\n",
       "      <td>4353</td>\n",
       "      <td>3794</td>\n",
       "      <td>1539</td>\n",
       "      <td>1060</td>\n",
       "    </tr>\n",
       "  </tbody>\n",
       "</table>\n",
       "</div>"
      ],
      "text/plain": [
       "                                                 hospital          municipio  \\\n",
       "count                                                4862               4862   \n",
       "unique                                                 16                 11   \n",
       "top     0010456 HBDF HOSPITAL DE BASE DO DISTRITO FEDERAL  BRASILIA, DF, BR    \n",
       "freq                                                  735               1923   \n",
       "\n",
       "              complexidade carater_atendimento  \\\n",
       "count                 4862                4862   \n",
       "unique                   2                   4   \n",
       "top     Média complexidade            Urgência   \n",
       "freq                  4353                3794   \n",
       "\n",
       "                     sub_grupo_procedimento     procedimento  \n",
       "count                                  4862             4862  \n",
       "unique                                   16              495  \n",
       "top     Sub Grupo: 11 - Cirurgia obstétrica  PARTO CESARIANO  \n",
       "freq                                   1539             1060  "
      ]
     },
     "execution_count": 12,
     "metadata": {},
     "output_type": "execute_result"
    }
   ],
   "source": [
    "df.describe()"
   ]
  },
  {
   "cell_type": "code",
   "execution_count": 13,
   "metadata": {},
   "outputs": [],
   "source": [
    "# top é o item que mais aparece em cada coluna\n",
    "# freq é a frequência do top"
   ]
  },
  {
   "cell_type": "code",
   "execution_count": null,
   "metadata": {},
   "outputs": [],
   "source": []
  },
  {
   "cell_type": "code",
   "execution_count": 14,
   "metadata": {},
   "outputs": [],
   "source": [
    "# Lista hospitais"
   ]
  },
  {
   "cell_type": "code",
   "execution_count": 15,
   "metadata": {},
   "outputs": [
    {
     "data": {
      "text/plain": [
       "array(['6876617 HOSPITAL DA CRIANCA DE BRASILIA JOSE ALENCAR HCB',\n",
       "       '0010456 HBDF HOSPITAL DE BASE DO DISTRITO FEDERAL',\n",
       "       '0010499 HRT HOSPITAL REGIONAL DE TAGUATINGA', '0010545 HRBZ',\n",
       "       '0010480 HOSPITAL REGIONAL DE CEILANDIA',\n",
       "       '3276678 INSTITUTO DE CARDIOLOGIA DO DISTRITO FEDERAL',\n",
       "       '0010472 HRG', '0010510 HOSPITAL UNIVERSITARIO DE BRASILIA',\n",
       "       '0010529 HRPL',\n",
       "       '0010537 HOSPITAL MATERNO INFANTIL DE BRASILIA HMIB',\n",
       "       '3055450 CBV CENTRO BRASILEIRO DA VISAO',\n",
       "       '2672197 HRSAM HOSPITAL REGIONAL DE SAMAMBAIA', '0010502 HRS',\n",
       "       '5717515 HRSM', '2645157 HRPA', '0010464 HRAN'], dtype=object)"
      ]
     },
     "execution_count": 15,
     "metadata": {},
     "output_type": "execute_result"
    }
   ],
   "source": [
    "df['hospital'].unique()"
   ]
  },
  {
   "cell_type": "code",
   "execution_count": null,
   "metadata": {},
   "outputs": [],
   "source": []
  },
  {
   "cell_type": "code",
   "execution_count": 16,
   "metadata": {},
   "outputs": [],
   "source": [
    "# Quantas cirurgias em cada hospital"
   ]
  },
  {
   "cell_type": "code",
   "execution_count": 17,
   "metadata": {},
   "outputs": [
    {
     "data": {
      "text/plain": [
       "0010456 HBDF HOSPITAL DE BASE DO DISTRITO FEDERAL           735\n",
       "0010472 HRG                                                 555\n",
       "0010480 HOSPITAL REGIONAL DE CEILANDIA                      461\n",
       "0010464 HRAN                                                432\n",
       "0010499 HRT HOSPITAL REGIONAL DE TAGUATINGA                 373\n",
       "0010510 HOSPITAL UNIVERSITARIO DE BRASILIA                  350\n",
       "2645157 HRPA                                                327\n",
       "0010537 HOSPITAL MATERNO INFANTIL DE BRASILIA HMIB          298\n",
       "5717515 HRSM                                                281\n",
       "0010529 HRPL                                                256\n",
       "0010502 HRS                                                 225\n",
       "2672197 HRSAM HOSPITAL REGIONAL DE SAMAMBAIA                195\n",
       "3276678 INSTITUTO DE CARDIOLOGIA DO DISTRITO FEDERAL        191\n",
       "0010545 HRBZ                                                 75\n",
       "6876617 HOSPITAL DA CRIANCA DE BRASILIA JOSE ALENCAR HCB     74\n",
       "3055450 CBV CENTRO BRASILEIRO DA VISAO                       34\n",
       "Name: hospital, dtype: int64"
      ]
     },
     "execution_count": 17,
     "metadata": {},
     "output_type": "execute_result"
    }
   ],
   "source": [
    "df['hospital'].value_counts()"
   ]
  },
  {
   "cell_type": "code",
   "execution_count": null,
   "metadata": {},
   "outputs": [],
   "source": []
  },
  {
   "cell_type": "code",
   "execution_count": 18,
   "metadata": {},
   "outputs": [
    {
     "data": {
      "text/plain": [
       "Sub Grupo: 11 - Cirurgia obstétrica                                                   1539\n",
       "Sub Grupo: 07 - Cirurgia do aparelho digestivo, orgãos anexos e parede abdominal       893\n",
       "Sub Grupo: 08 - Cirurgia do sistema osteomuscular                                      651\n",
       "Sub Grupo: 09 - Cirurgia do aparelho geniturinário                                     474\n",
       "Sub Grupo: 06 - Cirurgia do aparelho circulatório                                      299\n",
       "Sub Grupo: 15 - Outras cirurgias                                                       223\n",
       "Sub Grupo: 04 - Cirurgia das vias aéreas superiores, da cabeça e do pescoço            145\n",
       "Sub Grupo: 03 - Cirurgia do sistema nervoso central e periférico                       141\n",
       "Sub Grupo: 16 - Cirurgia em oncologia                                                  110\n",
       "Sub Grupo: 05 - Cirurgia do aparelho da visão                                           98\n",
       "Sub Grupo: 12 - Cirurgia torácica                                                       92\n",
       "Sub Grupo: 01 - Pequenas cirurgias e cirurgias de pele, tecido subcutâneo e mucosa      77\n",
       "Sub Grupo: 10 - Cirurgia de mama                                                        68\n",
       "Sub Grupo: 13 - Cirurgia reparadora                                                     40\n",
       "Sub Grupo: 14 - Cirurgia oro-facial                                                      7\n",
       "Sub Grupo: 02 - Cirurgia de glândulas endócrinas                                         5\n",
       "Name: sub_grupo_procedimento, dtype: int64"
      ]
     },
     "execution_count": 18,
     "metadata": {},
     "output_type": "execute_result"
    }
   ],
   "source": [
    "df['sub_grupo_procedimento'].value_counts()"
   ]
  },
  {
   "cell_type": "code",
   "execution_count": null,
   "metadata": {},
   "outputs": [],
   "source": []
  },
  {
   "cell_type": "code",
   "execution_count": 19,
   "metadata": {},
   "outputs": [
    {
     "data": {
      "text/plain": [
       "<matplotlib.axes._subplots.AxesSubplot at 0x7f6fdb6661d0>"
      ]
     },
     "execution_count": 19,
     "metadata": {},
     "output_type": "execute_result"
    },
    {
     "data": {
      "image/png": "[encoded data removed]",
      "text/plain": [
       "<Figure size 432x288 with 1 Axes>"
      ]
     },
     "metadata": {
      "needs_background": "light"
     },
     "output_type": "display_data"
    }
   ],
   "source": [
    "df['sub_grupo_procedimento'].value_counts().plot.bar()"
   ]
  },
  {
   "cell_type": "code",
   "execution_count": null,
   "metadata": {},
   "outputs": [],
   "source": []
  },
  {
   "cell_type": "code",
   "execution_count": 20,
   "metadata": {},
   "outputs": [],
   "source": [
    "# Cria subconjunto"
   ]
  },
  {
   "cell_type": "code",
   "execution_count": 21,
   "metadata": {},
   "outputs": [],
   "source": [
    "df_hosp_base = df[df['hospital'] == '0010456 HBDF HOSPITAL DE BASE DO DISTRITO FEDERAL']"
   ]
  },
  {
   "cell_type": "code",
   "execution_count": 22,
   "metadata": {},
   "outputs": [
    {
     "data": {
      "text/html": [
       "<div>\n",
       "<style scoped>\n",
       "    .dataframe tbody tr th:only-of-type {\n",
       "        vertical-align: middle;\n",
       "    }\n",
       "\n",
       "    .dataframe tbody tr th {\n",
       "        vertical-align: top;\n",
       "    }\n",
       "\n",
       "    .dataframe thead th {\n",
       "        text-align: right;\n",
       "    }\n",
       "</style>\n",
       "<table border=\"1\" class=\"dataframe\">\n",
       "  <thead>\n",
       "    <tr style=\"text-align: right;\">\n",
       "      <th></th>\n",
       "      <th>index</th>\n",
       "      <th>hospital</th>\n",
       "      <th>municipio</th>\n",
       "      <th>complexidade</th>\n",
       "      <th>carater_atendimento</th>\n",
       "      <th>sub_grupo_procedimento</th>\n",
       "      <th>procedimento</th>\n",
       "    </tr>\n",
       "  </thead>\n",
       "  <tbody>\n",
       "    <tr>\n",
       "      <th>0</th>\n",
       "      <td>1</td>\n",
       "      <td>0010456 HBDF HOSPITAL DE BASE DO DISTRITO FEDERAL</td>\n",
       "      <td>BRASILIA, DF, BR</td>\n",
       "      <td>Média complexidade</td>\n",
       "      <td>Urgência</td>\n",
       "      <td>Sub Grupo: 03 - Cirurgia do sistema nervoso ce...</td>\n",
       "      <td>DERIVACAO VENTRICULAR EXTERNAR-SUBGALEAL EXTERNA</td>\n",
       "    </tr>\n",
       "    <tr>\n",
       "      <th>1</th>\n",
       "      <td>2</td>\n",
       "      <td>0010456 HBDF HOSPITAL DE BASE DO DISTRITO FEDERAL</td>\n",
       "      <td>BRASILIA, DF, BR</td>\n",
       "      <td>Média complexidade</td>\n",
       "      <td>Urgência</td>\n",
       "      <td>Sub Grupo: 15 - Outras cirurgias</td>\n",
       "      <td>TRATAMENTO C/ CIRURGIAS MULTIPLAS</td>\n",
       "    </tr>\n",
       "    <tr>\n",
       "      <th>2</th>\n",
       "      <td>4</td>\n",
       "      <td>0010456 HBDF HOSPITAL DE BASE DO DISTRITO FEDERAL</td>\n",
       "      <td>BRASILIA, DF, BR</td>\n",
       "      <td>Alta complexidade</td>\n",
       "      <td>Eletivo</td>\n",
       "      <td>Sub Grupo: 16 - Cirurgia em oncologia</td>\n",
       "      <td>RESSECCAO DE TUMOR DE PARTES MOLES EM ONCOLOGIA</td>\n",
       "    </tr>\n",
       "  </tbody>\n",
       "</table>\n",
       "</div>"
      ],
      "text/plain": [
       "   index                                           hospital  \\\n",
       "0      1  0010456 HBDF HOSPITAL DE BASE DO DISTRITO FEDERAL   \n",
       "1      2  0010456 HBDF HOSPITAL DE BASE DO DISTRITO FEDERAL   \n",
       "2      4  0010456 HBDF HOSPITAL DE BASE DO DISTRITO FEDERAL   \n",
       "\n",
       "           municipio        complexidade carater_atendimento  \\\n",
       "0  BRASILIA, DF, BR   Média complexidade            Urgência   \n",
       "1  BRASILIA, DF, BR   Média complexidade            Urgência   \n",
       "2  BRASILIA, DF, BR    Alta complexidade             Eletivo   \n",
       "\n",
       "                              sub_grupo_procedimento  \\\n",
       "0  Sub Grupo: 03 - Cirurgia do sistema nervoso ce...   \n",
       "1                   Sub Grupo: 15 - Outras cirurgias   \n",
       "2              Sub Grupo: 16 - Cirurgia em oncologia   \n",
       "\n",
       "                                       procedimento  \n",
       "0  DERIVACAO VENTRICULAR EXTERNAR-SUBGALEAL EXTERNA  \n",
       "1                 TRATAMENTO C/ CIRURGIAS MULTIPLAS  \n",
       "2   RESSECCAO DE TUMOR DE PARTES MOLES EM ONCOLOGIA  "
      ]
     },
     "execution_count": 22,
     "metadata": {},
     "output_type": "execute_result"
    }
   ],
   "source": [
    "df_hosp_base.reset_index().head(3)"
   ]
  },
  {
   "cell_type": "code",
   "execution_count": 23,
   "metadata": {},
   "outputs": [
    {
     "data": {
      "text/html": [
       "<div>\n",
       "<style scoped>\n",
       "    .dataframe tbody tr th:only-of-type {\n",
       "        vertical-align: middle;\n",
       "    }\n",
       "\n",
       "    .dataframe tbody tr th {\n",
       "        vertical-align: top;\n",
       "    }\n",
       "\n",
       "    .dataframe thead th {\n",
       "        text-align: right;\n",
       "    }\n",
       "</style>\n",
       "<table border=\"1\" class=\"dataframe\">\n",
       "  <thead>\n",
       "    <tr style=\"text-align: right;\">\n",
       "      <th></th>\n",
       "      <th>index</th>\n",
       "      <th>hospital</th>\n",
       "      <th>municipio</th>\n",
       "      <th>complexidade</th>\n",
       "      <th>carater_atendimento</th>\n",
       "      <th>sub_grupo_procedimento</th>\n",
       "      <th>procedimento</th>\n",
       "    </tr>\n",
       "  </thead>\n",
       "  <tbody>\n",
       "    <tr>\n",
       "      <th>732</th>\n",
       "      <td>2371</td>\n",
       "      <td>0010456 HBDF HOSPITAL DE BASE DO DISTRITO FEDERAL</td>\n",
       "      <td>BRASILIA, DF, BR</td>\n",
       "      <td>Alta complexidade</td>\n",
       "      <td>Eletivo</td>\n",
       "      <td>Sub Grupo: 16 - Cirurgia em oncologia</td>\n",
       "      <td>MASTECTOMIA RADICAL C/ LINFADENECTOMIA AXILAR ...</td>\n",
       "    </tr>\n",
       "    <tr>\n",
       "      <th>733</th>\n",
       "      <td>2372</td>\n",
       "      <td>0010456 HBDF HOSPITAL DE BASE DO DISTRITO FEDERAL</td>\n",
       "      <td>BRASILIA, DF, BR</td>\n",
       "      <td>Alta complexidade</td>\n",
       "      <td>Eletivo</td>\n",
       "      <td>Sub Grupo: 16 - Cirurgia em oncologia</td>\n",
       "      <td>SEGMENTECTOMIA/QUADRANTECTOMIA/SETORECTOMIA DE...</td>\n",
       "    </tr>\n",
       "    <tr>\n",
       "      <th>734</th>\n",
       "      <td>2373</td>\n",
       "      <td>0010456 HBDF HOSPITAL DE BASE DO DISTRITO FEDERAL</td>\n",
       "      <td>BRASILIA, DF, BR</td>\n",
       "      <td>Alta complexidade</td>\n",
       "      <td>Eletivo</td>\n",
       "      <td>Sub Grupo: 06 - Cirurgia do aparelho circulatório</td>\n",
       "      <td>ESTUDO ELETROFISIOLOGICO TERAPEUTICO II (ABLAC...</td>\n",
       "    </tr>\n",
       "  </tbody>\n",
       "</table>\n",
       "</div>"
      ],
      "text/plain": [
       "     index                                           hospital  \\\n",
       "732   2371  0010456 HBDF HOSPITAL DE BASE DO DISTRITO FEDERAL   \n",
       "733   2372  0010456 HBDF HOSPITAL DE BASE DO DISTRITO FEDERAL   \n",
       "734   2373  0010456 HBDF HOSPITAL DE BASE DO DISTRITO FEDERAL   \n",
       "\n",
       "             municipio       complexidade carater_atendimento  \\\n",
       "732  BRASILIA, DF, BR   Alta complexidade             Eletivo   \n",
       "733  BRASILIA, DF, BR   Alta complexidade             Eletivo   \n",
       "734  BRASILIA, DF, BR   Alta complexidade             Eletivo   \n",
       "\n",
       "                                sub_grupo_procedimento  \\\n",
       "732              Sub Grupo: 16 - Cirurgia em oncologia   \n",
       "733              Sub Grupo: 16 - Cirurgia em oncologia   \n",
       "734  Sub Grupo: 06 - Cirurgia do aparelho circulatório   \n",
       "\n",
       "                                          procedimento  \n",
       "732  MASTECTOMIA RADICAL C/ LINFADENECTOMIA AXILAR ...  \n",
       "733  SEGMENTECTOMIA/QUADRANTECTOMIA/SETORECTOMIA DE...  \n",
       "734  ESTUDO ELETROFISIOLOGICO TERAPEUTICO II (ABLAC...  "
      ]
     },
     "execution_count": 23,
     "metadata": {},
     "output_type": "execute_result"
    }
   ],
   "source": [
    "df_hosp_base.reset_index().tail(3)"
   ]
  },
  {
   "cell_type": "code",
   "execution_count": null,
   "metadata": {},
   "outputs": [],
   "source": []
  },
  {
   "cell_type": "code",
   "execution_count": 24,
   "metadata": {},
   "outputs": [],
   "source": [
    "# Mostra valores aleatórios"
   ]
  },
  {
   "cell_type": "code",
   "execution_count": 25,
   "metadata": {},
   "outputs": [
    {
     "data": {
      "text/html": [
       "<div>\n",
       "<style scoped>\n",
       "    .dataframe tbody tr th:only-of-type {\n",
       "        vertical-align: middle;\n",
       "    }\n",
       "\n",
       "    .dataframe tbody tr th {\n",
       "        vertical-align: top;\n",
       "    }\n",
       "\n",
       "    .dataframe thead th {\n",
       "        text-align: right;\n",
       "    }\n",
       "</style>\n",
       "<table border=\"1\" class=\"dataframe\">\n",
       "  <thead>\n",
       "    <tr style=\"text-align: right;\">\n",
       "      <th></th>\n",
       "      <th>hospital</th>\n",
       "      <th>municipio</th>\n",
       "      <th>complexidade</th>\n",
       "      <th>carater_atendimento</th>\n",
       "      <th>sub_grupo_procedimento</th>\n",
       "      <th>procedimento</th>\n",
       "    </tr>\n",
       "  </thead>\n",
       "  <tbody>\n",
       "    <tr>\n",
       "      <th>2302</th>\n",
       "      <td>0010456 HBDF HOSPITAL DE BASE DO DISTRITO FEDERAL</td>\n",
       "      <td>BRASILIA, DF, BR</td>\n",
       "      <td>Média complexidade</td>\n",
       "      <td>Urgência</td>\n",
       "      <td>Sub Grupo: 03 - Cirurgia do sistema nervoso ce...</td>\n",
       "      <td>TRATAMENTO CIRÚRGICO DE OSTEOMIELITE DO CRÂNIO</td>\n",
       "    </tr>\n",
       "    <tr>\n",
       "      <th>2003</th>\n",
       "      <td>0010456 HBDF HOSPITAL DE BASE DO DISTRITO FEDERAL</td>\n",
       "      <td>BRASILIA, DF, BR</td>\n",
       "      <td>Alta complexidade</td>\n",
       "      <td>Urgência</td>\n",
       "      <td>Sub Grupo: 06 - Cirurgia do aparelho circulatório</td>\n",
       "      <td>ANGIOPLASTIA CORONARIANA</td>\n",
       "    </tr>\n",
       "    <tr>\n",
       "      <th>4</th>\n",
       "      <td>0010456 HBDF HOSPITAL DE BASE DO DISTRITO FEDERAL</td>\n",
       "      <td>BRASILIA, DF, BR</td>\n",
       "      <td>Alta complexidade</td>\n",
       "      <td>Eletivo</td>\n",
       "      <td>Sub Grupo: 16 - Cirurgia em oncologia</td>\n",
       "      <td>RESSECCAO DE TUMOR DE PARTES MOLES EM ONCOLOGIA</td>\n",
       "    </tr>\n",
       "    <tr>\n",
       "      <th>242</th>\n",
       "      <td>0010456 HBDF HOSPITAL DE BASE DO DISTRITO FEDERAL</td>\n",
       "      <td>BRASILIA, DF, BR</td>\n",
       "      <td>Média complexidade</td>\n",
       "      <td>Urgência</td>\n",
       "      <td>Sub Grupo: 08 - Cirurgia do sistema osteomuscular</td>\n",
       "      <td>TRATAMENTO CIRÚRGICO DE FRATURA DA PATELA POR ...</td>\n",
       "    </tr>\n",
       "    <tr>\n",
       "      <th>1708</th>\n",
       "      <td>0010456 HBDF HOSPITAL DE BASE DO DISTRITO FEDERAL</td>\n",
       "      <td>BRASILIA, DF, BR</td>\n",
       "      <td>Alta complexidade</td>\n",
       "      <td>Eletivo</td>\n",
       "      <td>Sub Grupo: 06 - Cirurgia do aparelho circulatório</td>\n",
       "      <td>IMPLANTE DE MARCAPASSO DE CAMARA DUPLA TRANSVE...</td>\n",
       "    </tr>\n",
       "  </tbody>\n",
       "</table>\n",
       "</div>"
      ],
      "text/plain": [
       "                                               hospital          municipio  \\\n",
       "2302  0010456 HBDF HOSPITAL DE BASE DO DISTRITO FEDERAL  BRASILIA, DF, BR    \n",
       "2003  0010456 HBDF HOSPITAL DE BASE DO DISTRITO FEDERAL  BRASILIA, DF, BR    \n",
       "4     0010456 HBDF HOSPITAL DE BASE DO DISTRITO FEDERAL  BRASILIA, DF, BR    \n",
       "242   0010456 HBDF HOSPITAL DE BASE DO DISTRITO FEDERAL  BRASILIA, DF, BR    \n",
       "1708  0010456 HBDF HOSPITAL DE BASE DO DISTRITO FEDERAL  BRASILIA, DF, BR    \n",
       "\n",
       "            complexidade carater_atendimento  \\\n",
       "2302  Média complexidade            Urgência   \n",
       "2003   Alta complexidade            Urgência   \n",
       "4      Alta complexidade             Eletivo   \n",
       "242   Média complexidade            Urgência   \n",
       "1708   Alta complexidade             Eletivo   \n",
       "\n",
       "                                 sub_grupo_procedimento  \\\n",
       "2302  Sub Grupo: 03 - Cirurgia do sistema nervoso ce...   \n",
       "2003  Sub Grupo: 06 - Cirurgia do aparelho circulatório   \n",
       "4                 Sub Grupo: 16 - Cirurgia em oncologia   \n",
       "242   Sub Grupo: 08 - Cirurgia do sistema osteomuscular   \n",
       "1708  Sub Grupo: 06 - Cirurgia do aparelho circulatório   \n",
       "\n",
       "                                           procedimento  \n",
       "2302     TRATAMENTO CIRÚRGICO DE OSTEOMIELITE DO CRÂNIO  \n",
       "2003                           ANGIOPLASTIA CORONARIANA  \n",
       "4       RESSECCAO DE TUMOR DE PARTES MOLES EM ONCOLOGIA  \n",
       "242   TRATAMENTO CIRÚRGICO DE FRATURA DA PATELA POR ...  \n",
       "1708  IMPLANTE DE MARCAPASSO DE CAMARA DUPLA TRANSVE...  "
      ]
     },
     "execution_count": 25,
     "metadata": {},
     "output_type": "execute_result"
    }
   ],
   "source": [
    "df_hosp_base.sample(5)"
   ]
  },
  {
   "cell_type": "code",
   "execution_count": null,
   "metadata": {},
   "outputs": [],
   "source": []
  },
  {
   "cell_type": "code",
   "execution_count": 26,
   "metadata": {},
   "outputs": [
    {
     "data": {
      "text/plain": [
       "TRATAMENTO C/ CIRURGIAS MULTIPLAS                                                                 47\n",
       "TRAQUEOSTOMIA                                                                                     28\n",
       "DERIVACAO VENTRICULAR PARA PERITONEO / ATRIO / PLEURA / RAQUE                                     26\n",
       "TORACOSTOMIA COM DRENAGEM PLEURAL FECHADA                                                         23\n",
       "IMPLANTE DE MARCAPASSO DE CAMARA DUPLA TRANSVENOSO                                                21\n",
       "TRATAMENTO CIRURGICO DE HEMATOMA SUBDURAL CRONICO                                                 18\n",
       "AMPUTACAO / DESARTICULACAO DE MEMBROS INFERIORES                                                  17\n",
       "TROCA DE GERADOR DE MARCAPASSO DE CAMARA DUPLA                                                    14\n",
       "FACOEMULSIFICACAO C/ IMPLANTE DE LENTE INTRA-OCULAR DOBRAVEL                                      12\n",
       "ANGIOPLASTIA CORONARIANA C/ IMPLANTE DE DOIS STENTS                                               11\n",
       "MASTECTOMIA RADICAL C/ LINFADENECTOMIA AXILAR EM ONCOLOGIA                                        10\n",
       "SEPTOPLASTIA  PARA CORREÇÃO DE DESVIO                                                              9\n",
       "DRENAGEM DE ABSCESSO PERIAMIGDALIANO                                                               9\n",
       "ANGIOPLASTIA CORONARIANA C/ IMPLANTE DE STENT                                                      9\n",
       "MICROCIRURGIA P/ARA ANEURISMA DA CIRCULAÇÃO CEREBRAL ANTERIOR MENOR QUE 1,5 CM                     9\n",
       "SEGMENTECTOMIA/QUADRANTECTOMIA/SETORECTOMIA DE MAMA EM ONCOLOGIA                                   9\n",
       "OSTEOSSÍNTESE DA FRATURA COMPLEXA DA MANDÍBULA                                                     9\n",
       "REDUCAO INCRUENTA DE FRATURA / LUXACAO / FRATURA-LUXACAO DO TORNOZELO                              8\n",
       "SETORECTOMIA / QUADRANTECTOMIA                                                                     8\n",
       "DERIVACAO VENTRICULAR EXTERNAR-SUBGALEAL EXTERNA                                                   8\n",
       "SUTURA DE ESCLERA                                                                                  8\n",
       "CRANIOTOMIA DESCOMPRESSIVA                                                                         8\n",
       "TRATAMENTO CIRURGICO DE HEMATOMA SUBDURAL AGUDO                                                    7\n",
       "EXERESE DE CALAZIO E OUTRAS PEQUENAS LESOES DA PALPEBRA E SUPERCILIOS                              7\n",
       "TRATAMENTO CIRURGICO DE HEMATOMA EXTRADURAL                                                        7\n",
       "EMBOLECTOMIA ARTERIAL                                                                              7\n",
       "AMPUTACAO / DESARTICULACAO DE PE E TARSO                                                           7\n",
       "AMPUTAÇÃO / DESARTICULAÇÃO DE DEDO                                                                 7\n",
       "OSTEOSSÍNTESE DE FRATURA SIMPLES DE MANDÍBULA                                                      7\n",
       "TRATAMENTO CIRURGICO DE HEMATOMA INTRACEREBRAL                                                     6\n",
       "                                                                                                  ..\n",
       "EXERESE DE CISTO DERMOIDE                                                                          1\n",
       "EXTIRPACAO E SUPRESSAO DE LESAO DE PELE E DE TECIDO CELULAR SUBCUTANEO                             1\n",
       "TENOPLASTIA OU ENXERTO DE TENDÃO UNICO                                                             1\n",
       "OSTEOTOMIA DE OSSOS LONGOS EXCETO DA MÃO E DO PÉ                                                   1\n",
       "TRATAMENTO CIRURGICO DE TORCAO DO TESTICULO / DO CORDAO ESPERMATICO                                1\n",
       "HERNIOPLASTIA INGUINAL / CRURAL (UNILATERAL)                                                       1\n",
       "REVASCULARIZACAO POR PONTE / TROMBOENDARTERECTOMIA FEMURO-POPLITEA PROXIMAL                        1\n",
       "TRATAMENTO CIRÚRGICO DE LUXAÇÃO / FRATURA-LUXAÇÃO METACARPO-FALANGIANA                             1\n",
       "REDUCAO INCRUENTA DE LUXACAO OU FRATURA / LUXACAO TARSO-METATARSICA                                1\n",
       "TRATAMENTO CIRÚRGICO DE PSEUDARTROSE / RETARDO DE CONSOLIDAÇÃO / PERDA ÓSSEA AO NÍVEL DO TARSO     1\n",
       "COLECTOMIA PARCIAL (HEMICOLECTOMIA) EM ONCOLOGIA                                                   1\n",
       "QUIMIOEMBOLIZAÇÃO DE CARCINOMA HEPÁTICO                                                            1\n",
       "TRATAMENTO CIRÚRGICO DE FRATURA DIAFISARIA DE AMBOS OS OSSOS DO ANTEBRAÇO (C/ SINTESE)             1\n",
       "LARINGECTOMIA TOTAL EM ONCOLOGIA                                                                   1\n",
       "ARTROPLASTIA TOTAL PRIMARIA DO QUADRIL NÃO CIMENTADA / HÍBRIDA                                     1\n",
       "DESCORTICAÇÃO PULMONAR                                                                             1\n",
       "ESOFAGOPLASTIA / GASTROPLASTIA                                                                     1\n",
       "LIBERACAO DE ADERENCIAS INTESTINAIS                                                                1\n",
       "NEFROLITOTOMIA                                                                                     1\n",
       "PAROTIDECTOMIA PARCIAL OU SUBTOTAL                                                                 1\n",
       "ARTROPLASTIA PARCIAL DE QUADRIL                                                                    1\n",
       "TRAQUEOPLASTIA E/OU LARINGOTRAQUEOPLASTIA                                                          1\n",
       "RECONSTRUCAO DE TENDAO PATELAR / TENDAO QUADRICIPITAL                                              1\n",
       "CISTORRAFIA                                                                                        1\n",
       "SINUSOTOMIA BILATERAL                                                                              1\n",
       "LINFADENECTOMIA AXILAR UNILATERAL EM ONCOLOGIA                                                     1\n",
       "EMBOLIZAÇÃO DE ANEURISMA CEREBRAL MENOR DO QUE 1,5 CM COM COLO LARGO                               1\n",
       "TRATAMENTO CIRURGICO DE FISTULA LIQUORICA RAQUIDIANA                                               1\n",
       "TRATAMENTO CIRÚRGICO DE PSEUDARTROSE / RETARDO DE CONSOLIDAÇÃO / PERDA ÓSSEA DO COLO DO FÊMUR      1\n",
       "FACECTOMIA C/ IMPLANTE DE LENTE INTRA-OCULAR                                                       1\n",
       "Name: procedimento, Length: 242, dtype: int64"
      ]
     },
     "execution_count": 26,
     "metadata": {},
     "output_type": "execute_result"
    }
   ],
   "source": [
    "df_hosp_base['procedimento'].value_counts()"
   ]
  },
  {
   "cell_type": "code",
   "execution_count": null,
   "metadata": {},
   "outputs": [],
   "source": []
  },
  {
   "cell_type": "code",
   "execution_count": null,
   "metadata": {},
   "outputs": [],
   "source": [
    "# Grupo com pedaço de palavra - conta"
   ]
  },
  {
   "cell_type": "code",
   "execution_count": 27,
   "metadata": {},
   "outputs": [
    {
     "data": {
      "text/plain": [
       "hospital                  33\n",
       "municipio                 33\n",
       "complexidade              33\n",
       "carater_atendimento       33\n",
       "sub_grupo_procedimento    33\n",
       "procedimento              33\n",
       "dtype: int64"
      ]
     },
     "execution_count": 27,
     "metadata": {},
     "output_type": "execute_result"
    }
   ],
   "source": [
    "df_hosp_base[df_hosp_base['procedimento'].str.contains('AMPUTA')].count()"
   ]
  },
  {
   "cell_type": "code",
   "execution_count": null,
   "metadata": {},
   "outputs": [],
   "source": []
  },
  {
   "cell_type": "code",
   "execution_count": 28,
   "metadata": {},
   "outputs": [],
   "source": [
    "df_parto_cesariano = df[df['procedimento'] == 'PARTO CESARIANO']"
   ]
  },
  {
   "cell_type": "code",
   "execution_count": 29,
   "metadata": {},
   "outputs": [
    {
     "data": {
      "text/html": [
       "<div>\n",
       "<style scoped>\n",
       "    .dataframe tbody tr th:only-of-type {\n",
       "        vertical-align: middle;\n",
       "    }\n",
       "\n",
       "    .dataframe tbody tr th {\n",
       "        vertical-align: top;\n",
       "    }\n",
       "\n",
       "    .dataframe thead th {\n",
       "        text-align: right;\n",
       "    }\n",
       "</style>\n",
       "<table border=\"1\" class=\"dataframe\">\n",
       "  <thead>\n",
       "    <tr style=\"text-align: right;\">\n",
       "      <th></th>\n",
       "      <th>hospital</th>\n",
       "      <th>municipio</th>\n",
       "      <th>complexidade</th>\n",
       "      <th>carater_atendimento</th>\n",
       "      <th>sub_grupo_procedimento</th>\n",
       "      <th>procedimento</th>\n",
       "    </tr>\n",
       "  </thead>\n",
       "  <tbody>\n",
       "    <tr>\n",
       "      <th>3208</th>\n",
       "      <td>0010537 HOSPITAL MATERNO INFANTIL DE BRASILIA ...</td>\n",
       "      <td>BRASILIA, DF, BR</td>\n",
       "      <td>Média complexidade</td>\n",
       "      <td>Urgência</td>\n",
       "      <td>Sub Grupo: 11 - Cirurgia obstétrica</td>\n",
       "      <td>PARTO CESARIANO</td>\n",
       "    </tr>\n",
       "    <tr>\n",
       "      <th>3270</th>\n",
       "      <td>0010537 HOSPITAL MATERNO INFANTIL DE BRASILIA ...</td>\n",
       "      <td>BRASILIA, DF, BR</td>\n",
       "      <td>Média complexidade</td>\n",
       "      <td>Urgência</td>\n",
       "      <td>Sub Grupo: 11 - Cirurgia obstétrica</td>\n",
       "      <td>PARTO CESARIANO</td>\n",
       "    </tr>\n",
       "    <tr>\n",
       "      <th>2123</th>\n",
       "      <td>0010502 HRS</td>\n",
       "      <td>SOBRADINHO, DF, BR</td>\n",
       "      <td>Média complexidade</td>\n",
       "      <td>Urgência</td>\n",
       "      <td>Sub Grupo: 11 - Cirurgia obstétrica</td>\n",
       "      <td>PARTO CESARIANO</td>\n",
       "    </tr>\n",
       "    <tr>\n",
       "      <th>4047</th>\n",
       "      <td>0010464 HRAN</td>\n",
       "      <td>BRASILIA, DF, BR</td>\n",
       "      <td>Média complexidade</td>\n",
       "      <td>Urgência</td>\n",
       "      <td>Sub Grupo: 11 - Cirurgia obstétrica</td>\n",
       "      <td>PARTO CESARIANO</td>\n",
       "    </tr>\n",
       "    <tr>\n",
       "      <th>4833</th>\n",
       "      <td>0010480 HOSPITAL REGIONAL DE CEILANDIA</td>\n",
       "      <td>CEILANDIA, DF, BR</td>\n",
       "      <td>Média complexidade</td>\n",
       "      <td>Urgência</td>\n",
       "      <td>Sub Grupo: 11 - Cirurgia obstétrica</td>\n",
       "      <td>PARTO CESARIANO</td>\n",
       "    </tr>\n",
       "  </tbody>\n",
       "</table>\n",
       "</div>"
      ],
      "text/plain": [
       "                                               hospital            municipio  \\\n",
       "3208  0010537 HOSPITAL MATERNO INFANTIL DE BRASILIA ...    BRASILIA, DF, BR    \n",
       "3270  0010537 HOSPITAL MATERNO INFANTIL DE BRASILIA ...    BRASILIA, DF, BR    \n",
       "2123                                        0010502 HRS  SOBRADINHO, DF, BR    \n",
       "4047                                       0010464 HRAN    BRASILIA, DF, BR    \n",
       "4833             0010480 HOSPITAL REGIONAL DE CEILANDIA   CEILANDIA, DF, BR    \n",
       "\n",
       "            complexidade carater_atendimento  \\\n",
       "3208  Média complexidade            Urgência   \n",
       "3270  Média complexidade            Urgência   \n",
       "2123  Média complexidade            Urgência   \n",
       "4047  Média complexidade            Urgência   \n",
       "4833  Média complexidade            Urgência   \n",
       "\n",
       "                   sub_grupo_procedimento     procedimento  \n",
       "3208  Sub Grupo: 11 - Cirurgia obstétrica  PARTO CESARIANO  \n",
       "3270  Sub Grupo: 11 - Cirurgia obstétrica  PARTO CESARIANO  \n",
       "2123  Sub Grupo: 11 - Cirurgia obstétrica  PARTO CESARIANO  \n",
       "4047  Sub Grupo: 11 - Cirurgia obstétrica  PARTO CESARIANO  \n",
       "4833  Sub Grupo: 11 - Cirurgia obstétrica  PARTO CESARIANO  "
      ]
     },
     "execution_count": 29,
     "metadata": {},
     "output_type": "execute_result"
    }
   ],
   "source": [
    "df_parto_cesariano.sample(5)"
   ]
  },
  {
   "cell_type": "code",
   "execution_count": null,
   "metadata": {},
   "outputs": [],
   "source": []
  },
  {
   "cell_type": "code",
   "execution_count": 30,
   "metadata": {},
   "outputs": [
    {
     "data": {
      "text/plain": [
       "0010480 HOSPITAL REGIONAL DE CEILANDIA                165\n",
       "2645157 HRPA                                          123\n",
       "5717515 HRSM                                          110\n",
       "0010537 HOSPITAL MATERNO INFANTIL DE BRASILIA HMIB     93\n",
       "0010502 HRS                                            92\n",
       "2672197 HRSAM HOSPITAL REGIONAL DE SAMAMBAIA           92\n",
       "0010464 HRAN                                           88\n",
       "0010529 HRPL                                           79\n",
       "0010499 HRT HOSPITAL REGIONAL DE TAGUATINGA            74\n",
       "0010510 HOSPITAL UNIVERSITARIO DE BRASILIA             63\n",
       "0010472 HRG                                            47\n",
       "0010545 HRBZ                                           34\n",
       "Name: hospital, dtype: int64"
      ]
     },
     "execution_count": 30,
     "metadata": {},
     "output_type": "execute_result"
    }
   ],
   "source": [
    "df_parto_cesariano['hospital'].value_counts()"
   ]
  },
  {
   "cell_type": "code",
   "execution_count": null,
   "metadata": {},
   "outputs": [],
   "source": []
  },
  {
   "cell_type": "code",
   "execution_count": 31,
   "metadata": {},
   "outputs": [
    {
     "data": {
      "text/plain": [
       "Urgência    1041\n",
       "Eletivo       19\n",
       "Name: carater_atendimento, dtype: int64"
      ]
     },
     "execution_count": 31,
     "metadata": {},
     "output_type": "execute_result"
    }
   ],
   "source": [
    "df_parto_cesariano['carater_atendimento'].value_counts()"
   ]
  },
  {
   "cell_type": "code",
   "execution_count": null,
   "metadata": {},
   "outputs": [],
   "source": []
  },
  {
   "cell_type": "code",
   "execution_count": 32,
   "metadata": {},
   "outputs": [
    {
     "data": {
      "text/plain": [
       "<matplotlib.axes._subplots.AxesSubplot at 0x7f6fdb573550>"
      ]
     },
     "execution_count": 32,
     "metadata": {},
     "output_type": "execute_result"
    },
    {
     "data": {
      "image/png": "[encoded data removed]",
      "text/plain": [
       "<Figure size 432x288 with 1 Axes>"
      ]
     },
     "metadata": {
      "needs_background": "light"
     },
     "output_type": "display_data"
    }
   ],
   "source": [
    "df_parto_cesariano['hospital'].value_counts().plot.barh()"
   ]
  },
  {
   "cell_type": "code",
   "execution_count": null,
   "metadata": {},
   "outputs": [],
   "source": []
  },
  {
   "cell_type": "code",
   "execution_count": 35,
   "metadata": {},
   "outputs": [
    {
     "data": {
      "text/plain": [
       "<matplotlib.axes._subplots.AxesSubplot at 0x7f6fdb3faf60>"
      ]
     },
     "execution_count": 35,
     "metadata": {},
     "output_type": "execute_result"
    },
    {
     "data": {
      "image/png": "[encoded data removed]",
      "text/plain": [
       "<Figure size 432x288 with 1 Axes>"
      ]
     },
     "metadata": {
      "needs_background": "light"
     },
     "output_type": "display_data"
    }
   ],
   "source": [
    "df_parto_cesariano['hospital'].value_counts(ascending=True).plot.barh(title = 'Quantidade de partos cesarianos por hospital')"
   ]
  },
  {
   "cell_type": "code",
   "execution_count": null,
   "metadata": {},
   "outputs": [],
   "source": []
  }
 ],
 "metadata": {
  "kernelspec": {
   "display_name": "Python 3",
   "language": "python",
   "name": "python3"
  },
  "language_info": {
   "codemirror_mode": {
    "name": "ipython",
    "version": 3
   },
   "file_extension": ".py",
   "mimetype": "text/x-python",
   "name": "python",
   "nbconvert_exporter": "python",
   "pygments_lexer": "ipython3",
   "version": "3.6.2"
  }
 },
 "nbformat": 4,
 "nbformat_minor": 2
}
